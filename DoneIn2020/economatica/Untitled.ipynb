{
 "metadata": {
  "language_info": {
   "codemirror_mode": {
    "name": "ipython",
    "version": 3
   },
   "file_extension": ".py",
   "mimetype": "text/x-python",
   "name": "python",
   "nbconvert_exporter": "python",
   "pygments_lexer": "ipython3",
   "version": "3.7.6-final"
  },
  "orig_nbformat": 2,
  "kernelspec": {
   "name": "python3",
   "display_name": "Python 3.7.6 64-bit ('base': conda)",
   "metadata": {
    "interpreter": {
     "hash": "2f0d832b217f3429015e3ab5ccd3292b5f348205a708e3c765eb0c61adc450c6"
    }
   }
  }
 },
 "nbformat": 4,
 "nbformat_minor": 2,
 "cells": [
  {
   "cell_type": "code",
   "execution_count": 13,
   "metadata": {},
   "outputs": [],
   "source": [
    "import datetime\n",
    "import matplotlib.pyplot as plt\n",
    "import numpy as np\n",
    "import pandas as pd\n",
    "import progress\n",
    "from workalendar.america import Brazil"
   ]
  },
  {
   "cell_type": "code",
   "execution_count": 14,
   "metadata": {},
   "outputs": [],
   "source": [
    "data = pd.read_excel('economatica.xlsx',header=3, index_col=0)"
   ]
  },
  {
   "cell_type": "code",
   "execution_count": 15,
   "metadata": {},
   "outputs": [
    {
     "output_type": "execute_result",
     "data": {
      "text/plain": [
       "           Fechamento\\najust p/ prov\\nEm moeda orig\\nCDI 252 dias  \\\n",
       "Data                                                                \n",
       "1986-03-06                                            18.7148       \n",
       "1986-03-07                                                  -       \n",
       "1986-03-10                                            18.9841       \n",
       "1986-03-11                                                  -       \n",
       "1986-03-12                                            18.5057       \n",
       "...                                                       ...       \n",
       "2020-10-12                                                  -       \n",
       "2020-10-13                                                1.9       \n",
       "2020-10-14                                                1.9       \n",
       "2020-10-15                                                1.9       \n",
       "2020-10-16                                                1.9       \n",
       "\n",
       "           Fechamento\\najust p/ prov\\nEm moeda orig\\nDI1X11  \\\n",
       "Data                                                          \n",
       "1986-03-06                                                -   \n",
       "1986-03-07                                                -   \n",
       "1986-03-10                                                -   \n",
       "1986-03-11                                                -   \n",
       "1986-03-12                                                -   \n",
       "...                                                     ...   \n",
       "2020-10-12                                                -   \n",
       "2020-10-13                                                -   \n",
       "2020-10-14                                                -   \n",
       "2020-10-15                                                -   \n",
       "2020-10-16                                                -   \n",
       "\n",
       "           Fechamento\\najust p/ prov\\nEm moeda orig\\nDI1F12  \\\n",
       "Data                                                          \n",
       "1986-03-06                                                -   \n",
       "1986-03-07                                                -   \n",
       "1986-03-10                                                -   \n",
       "1986-03-11                                                -   \n",
       "1986-03-12                                                -   \n",
       "...                                                     ...   \n",
       "2020-10-12                                                -   \n",
       "2020-10-13                                                -   \n",
       "2020-10-14                                                -   \n",
       "2020-10-15                                                -   \n",
       "2020-10-16                                                -   \n",
       "\n",
       "           Fechamento\\najust p/ prov\\nEm moeda orig\\nDI1J12  \\\n",
       "Data                                                          \n",
       "1986-03-06                                                -   \n",
       "1986-03-07                                                -   \n",
       "1986-03-10                                                -   \n",
       "1986-03-11                                                -   \n",
       "1986-03-12                                                -   \n",
       "...                                                     ...   \n",
       "2020-10-12                                                -   \n",
       "2020-10-13                                                -   \n",
       "2020-10-14                                                -   \n",
       "2020-10-15                                                -   \n",
       "2020-10-16                                                -   \n",
       "\n",
       "           Fechamento\\najust p/ prov\\nEm moeda orig\\nDI1K12  \\\n",
       "Data                                                          \n",
       "1986-03-06                                                -   \n",
       "1986-03-07                                                -   \n",
       "1986-03-10                                                -   \n",
       "1986-03-11                                                -   \n",
       "1986-03-12                                                -   \n",
       "...                                                     ...   \n",
       "2020-10-12                                                -   \n",
       "2020-10-13                                                -   \n",
       "2020-10-14                                                -   \n",
       "2020-10-15                                                -   \n",
       "2020-10-16                                                -   \n",
       "\n",
       "           Fechamento\\najust p/ prov\\nEm moeda orig\\nDI1M12  \\\n",
       "Data                                                          \n",
       "1986-03-06                                                -   \n",
       "1986-03-07                                                -   \n",
       "1986-03-10                                                -   \n",
       "1986-03-11                                                -   \n",
       "1986-03-12                                                -   \n",
       "...                                                     ...   \n",
       "2020-10-12                                                -   \n",
       "2020-10-13                                                -   \n",
       "2020-10-14                                                -   \n",
       "2020-10-15                                                -   \n",
       "2020-10-16                                                -   \n",
       "\n",
       "           Fechamento\\najust p/ prov\\nEm moeda orig\\nDI1N12  \\\n",
       "Data                                                          \n",
       "1986-03-06                                                -   \n",
       "1986-03-07                                                -   \n",
       "1986-03-10                                                -   \n",
       "1986-03-11                                                -   \n",
       "1986-03-12                                                -   \n",
       "...                                                     ...   \n",
       "2020-10-12                                                -   \n",
       "2020-10-13                                                -   \n",
       "2020-10-14                                                -   \n",
       "2020-10-15                                                -   \n",
       "2020-10-16                                                -   \n",
       "\n",
       "           Fechamento\\najust p/ prov\\nEm moeda orig\\nDI1Q12  \\\n",
       "Data                                                          \n",
       "1986-03-06                                                -   \n",
       "1986-03-07                                                -   \n",
       "1986-03-10                                                -   \n",
       "1986-03-11                                                -   \n",
       "1986-03-12                                                -   \n",
       "...                                                     ...   \n",
       "2020-10-12                                                -   \n",
       "2020-10-13                                                -   \n",
       "2020-10-14                                                -   \n",
       "2020-10-15                                                -   \n",
       "2020-10-16                                                -   \n",
       "\n",
       "           Fechamento\\najust p/ prov\\nEm moeda orig\\nDI1V12  \\\n",
       "Data                                                          \n",
       "1986-03-06                                                -   \n",
       "1986-03-07                                                -   \n",
       "1986-03-10                                                -   \n",
       "1986-03-11                                                -   \n",
       "1986-03-12                                                -   \n",
       "...                                                     ...   \n",
       "2020-10-12                                                -   \n",
       "2020-10-13                                                -   \n",
       "2020-10-14                                                -   \n",
       "2020-10-15                                                -   \n",
       "2020-10-16                                                -   \n",
       "\n",
       "           Fechamento\\najust p/ prov\\nEm moeda orig\\nDI1X12  ...  \\\n",
       "Data                                                         ...   \n",
       "1986-03-06                                                -  ...   \n",
       "1986-03-07                                                -  ...   \n",
       "1986-03-10                                                -  ...   \n",
       "1986-03-11                                                -  ...   \n",
       "1986-03-12                                                -  ...   \n",
       "...                                                     ...  ...   \n",
       "2020-10-12                                                -  ...   \n",
       "2020-10-13                                                -  ...   \n",
       "2020-10-14                                                -  ...   \n",
       "2020-10-15                                                -  ...   \n",
       "2020-10-16                                                -  ...   \n",
       "\n",
       "           Fechamento\\najust p/ prov\\nEm moeda orig\\nDI1V25  \\\n",
       "Data                                                          \n",
       "1986-03-06                                                -   \n",
       "1986-03-07                                                -   \n",
       "1986-03-10                                                -   \n",
       "1986-03-11                                                -   \n",
       "1986-03-12                                                -   \n",
       "...                                                     ...   \n",
       "2020-10-12                                                -   \n",
       "2020-10-13                                             6.77   \n",
       "2020-10-14                                             6.82   \n",
       "2020-10-15                                             6.93   \n",
       "2020-10-16                                             6.99   \n",
       "\n",
       "           Fechamento\\najust p/ prov\\nEm moeda orig\\nDI1F26  \\\n",
       "Data                                                          \n",
       "1986-03-06                                                -   \n",
       "1986-03-07                                                -   \n",
       "1986-03-10                                                -   \n",
       "1986-03-11                                                -   \n",
       "1986-03-12                                                -   \n",
       "...                                                     ...   \n",
       "2020-10-12                                                -   \n",
       "2020-10-13                                             6.93   \n",
       "2020-10-14                                             6.91   \n",
       "2020-10-15                                             7.04   \n",
       "2020-10-16                                             7.11   \n",
       "\n",
       "           Fechamento\\najust p/ prov\\nEm moeda orig\\nDI1N26  \\\n",
       "Data                                                          \n",
       "1986-03-06                                                -   \n",
       "1986-03-07                                                -   \n",
       "1986-03-10                                                -   \n",
       "1986-03-11                                                -   \n",
       "1986-03-12                                                -   \n",
       "...                                                     ...   \n",
       "2020-10-12                                                -   \n",
       "2020-10-13                                                -   \n",
       "2020-10-14                                             7.15   \n",
       "2020-10-15                                             7.28   \n",
       "2020-10-16                                             7.31   \n",
       "\n",
       "           Fechamento\\najust p/ prov\\nEm moeda orig\\nDI1F27  \\\n",
       "Data                                                          \n",
       "1986-03-06                                                -   \n",
       "1986-03-07                                                -   \n",
       "1986-03-10                                                -   \n",
       "1986-03-11                                                -   \n",
       "1986-03-12                                                -   \n",
       "...                                                     ...   \n",
       "2020-10-12                                                -   \n",
       "2020-10-13                                             7.38   \n",
       "2020-10-14                                             7.37   \n",
       "2020-10-15                                             7.48   \n",
       "2020-10-16                                             7.53   \n",
       "\n",
       "           Fechamento\\najust p/ prov\\nEm moeda orig\\nDI1F28  \\\n",
       "Data                                                          \n",
       "1986-03-06                                                -   \n",
       "1986-03-07                                                -   \n",
       "1986-03-10                                                -   \n",
       "1986-03-11                                                -   \n",
       "1986-03-12                                                -   \n",
       "...                                                     ...   \n",
       "2020-10-12                                                -   \n",
       "2020-10-13                                             7.65   \n",
       "2020-10-14                                             7.67   \n",
       "2020-10-15                                                -   \n",
       "2020-10-16                                             7.84   \n",
       "\n",
       "           Fechamento\\najust p/ prov\\nEm moeda orig\\nDI1F29  \\\n",
       "Data                                                          \n",
       "1986-03-06                                                -   \n",
       "1986-03-07                                                -   \n",
       "1986-03-10                                                -   \n",
       "1986-03-11                                                -   \n",
       "1986-03-12                                                -   \n",
       "...                                                     ...   \n",
       "2020-10-12                                                -   \n",
       "2020-10-13                                             7.95   \n",
       "2020-10-14                                             7.91   \n",
       "2020-10-15                                             8.02   \n",
       "2020-10-16                                             8.06   \n",
       "\n",
       "           Fechamento\\najust p/ prov\\nEm moeda orig\\nDI1F30  \\\n",
       "Data                                                          \n",
       "1986-03-06                                                -   \n",
       "1986-03-07                                                -   \n",
       "1986-03-10                                                -   \n",
       "1986-03-11                                                -   \n",
       "1986-03-12                                                -   \n",
       "...                                                     ...   \n",
       "2020-10-12                                                -   \n",
       "2020-10-13                                                -   \n",
       "2020-10-14                                                -   \n",
       "2020-10-15                                                -   \n",
       "2020-10-16                                                -   \n",
       "\n",
       "           Fechamento\\najust p/ prov\\nEm moeda orig\\nDI1F31  \\\n",
       "Data                                                          \n",
       "1986-03-06                                                -   \n",
       "1986-03-07                                                -   \n",
       "1986-03-10                                                -   \n",
       "1986-03-11                                                -   \n",
       "1986-03-12                                                -   \n",
       "...                                                     ...   \n",
       "2020-10-12                                                -   \n",
       "2020-10-13                                             8.26   \n",
       "2020-10-14                                             8.22   \n",
       "2020-10-15                                             8.33   \n",
       "2020-10-16                                             8.36   \n",
       "\n",
       "           Fechamento\\najust p/ prov\\nEm moeda orig\\nDI1F33  \\\n",
       "Data                                                          \n",
       "1986-03-06                                                -   \n",
       "1986-03-07                                                -   \n",
       "1986-03-10                                                -   \n",
       "1986-03-11                                                -   \n",
       "1986-03-12                                                -   \n",
       "...                                                     ...   \n",
       "2020-10-12                                                -   \n",
       "2020-10-13                                                -   \n",
       "2020-10-14                                                -   \n",
       "2020-10-15                                                -   \n",
       "2020-10-16                                                -   \n",
       "\n",
       "           Fechamento\\najust p/ prov\\nEm moeda orig\\nDI1F35  \n",
       "Data                                                         \n",
       "1986-03-06                                                -  \n",
       "1986-03-07                                                -  \n",
       "1986-03-10                                                -  \n",
       "1986-03-11                                                -  \n",
       "1986-03-12                                                -  \n",
       "...                                                     ...  \n",
       "2020-10-12                                                -  \n",
       "2020-10-13                                                -  \n",
       "2020-10-14                                                -  \n",
       "2020-10-15                                                -  \n",
       "2020-10-16                                                -  \n",
       "\n",
       "[9032 rows x 117 columns]"
      ],
      "text/html": "<div>\n<style scoped>\n    .dataframe tbody tr th:only-of-type {\n        vertical-align: middle;\n    }\n\n    .dataframe tbody tr th {\n        vertical-align: top;\n    }\n\n    .dataframe thead th {\n        text-align: right;\n    }\n</style>\n<table border=\"1\" class=\"dataframe\">\n  <thead>\n    <tr style=\"text-align: right;\">\n      <th></th>\n      <th>Fechamento\\najust p/ prov\\nEm moeda orig\\nCDI 252 dias</th>\n      <th>Fechamento\\najust p/ prov\\nEm moeda orig\\nDI1X11</th>\n      <th>Fechamento\\najust p/ prov\\nEm moeda orig\\nDI1F12</th>\n      <th>Fechamento\\najust p/ prov\\nEm moeda orig\\nDI1J12</th>\n      <th>Fechamento\\najust p/ prov\\nEm moeda orig\\nDI1K12</th>\n      <th>Fechamento\\najust p/ prov\\nEm moeda orig\\nDI1M12</th>\n      <th>Fechamento\\najust p/ prov\\nEm moeda orig\\nDI1N12</th>\n      <th>Fechamento\\najust p/ prov\\nEm moeda orig\\nDI1Q12</th>\n      <th>Fechamento\\najust p/ prov\\nEm moeda orig\\nDI1V12</th>\n      <th>Fechamento\\najust p/ prov\\nEm moeda orig\\nDI1X12</th>\n      <th>...</th>\n      <th>Fechamento\\najust p/ prov\\nEm moeda orig\\nDI1V25</th>\n      <th>Fechamento\\najust p/ prov\\nEm moeda orig\\nDI1F26</th>\n      <th>Fechamento\\najust p/ prov\\nEm moeda orig\\nDI1N26</th>\n      <th>Fechamento\\najust p/ prov\\nEm moeda orig\\nDI1F27</th>\n      <th>Fechamento\\najust p/ prov\\nEm moeda orig\\nDI1F28</th>\n      <th>Fechamento\\najust p/ prov\\nEm moeda orig\\nDI1F29</th>\n      <th>Fechamento\\najust p/ prov\\nEm moeda orig\\nDI1F30</th>\n      <th>Fechamento\\najust p/ prov\\nEm moeda orig\\nDI1F31</th>\n      <th>Fechamento\\najust p/ prov\\nEm moeda orig\\nDI1F33</th>\n      <th>Fechamento\\najust p/ prov\\nEm moeda orig\\nDI1F35</th>\n    </tr>\n    <tr>\n      <th>Data</th>\n      <th></th>\n      <th></th>\n      <th></th>\n      <th></th>\n      <th></th>\n      <th></th>\n      <th></th>\n      <th></th>\n      <th></th>\n      <th></th>\n      <th></th>\n      <th></th>\n      <th></th>\n      <th></th>\n      <th></th>\n      <th></th>\n      <th></th>\n      <th></th>\n      <th></th>\n      <th></th>\n      <th></th>\n    </tr>\n  </thead>\n  <tbody>\n    <tr>\n      <th>1986-03-06</th>\n      <td>18.7148</td>\n      <td>-</td>\n      <td>-</td>\n      <td>-</td>\n      <td>-</td>\n      <td>-</td>\n      <td>-</td>\n      <td>-</td>\n      <td>-</td>\n      <td>-</td>\n      <td>...</td>\n      <td>-</td>\n      <td>-</td>\n      <td>-</td>\n      <td>-</td>\n      <td>-</td>\n      <td>-</td>\n      <td>-</td>\n      <td>-</td>\n      <td>-</td>\n      <td>-</td>\n    </tr>\n    <tr>\n      <th>1986-03-07</th>\n      <td>-</td>\n      <td>-</td>\n      <td>-</td>\n      <td>-</td>\n      <td>-</td>\n      <td>-</td>\n      <td>-</td>\n      <td>-</td>\n      <td>-</td>\n      <td>-</td>\n      <td>...</td>\n      <td>-</td>\n      <td>-</td>\n      <td>-</td>\n      <td>-</td>\n      <td>-</td>\n      <td>-</td>\n      <td>-</td>\n      <td>-</td>\n      <td>-</td>\n      <td>-</td>\n    </tr>\n    <tr>\n      <th>1986-03-10</th>\n      <td>18.9841</td>\n      <td>-</td>\n      <td>-</td>\n      <td>-</td>\n      <td>-</td>\n      <td>-</td>\n      <td>-</td>\n      <td>-</td>\n      <td>-</td>\n      <td>-</td>\n      <td>...</td>\n      <td>-</td>\n      <td>-</td>\n      <td>-</td>\n      <td>-</td>\n      <td>-</td>\n      <td>-</td>\n      <td>-</td>\n      <td>-</td>\n      <td>-</td>\n      <td>-</td>\n    </tr>\n    <tr>\n      <th>1986-03-11</th>\n      <td>-</td>\n      <td>-</td>\n      <td>-</td>\n      <td>-</td>\n      <td>-</td>\n      <td>-</td>\n      <td>-</td>\n      <td>-</td>\n      <td>-</td>\n      <td>-</td>\n      <td>...</td>\n      <td>-</td>\n      <td>-</td>\n      <td>-</td>\n      <td>-</td>\n      <td>-</td>\n      <td>-</td>\n      <td>-</td>\n      <td>-</td>\n      <td>-</td>\n      <td>-</td>\n    </tr>\n    <tr>\n      <th>1986-03-12</th>\n      <td>18.5057</td>\n      <td>-</td>\n      <td>-</td>\n      <td>-</td>\n      <td>-</td>\n      <td>-</td>\n      <td>-</td>\n      <td>-</td>\n      <td>-</td>\n      <td>-</td>\n      <td>...</td>\n      <td>-</td>\n      <td>-</td>\n      <td>-</td>\n      <td>-</td>\n      <td>-</td>\n      <td>-</td>\n      <td>-</td>\n      <td>-</td>\n      <td>-</td>\n      <td>-</td>\n    </tr>\n    <tr>\n      <th>...</th>\n      <td>...</td>\n      <td>...</td>\n      <td>...</td>\n      <td>...</td>\n      <td>...</td>\n      <td>...</td>\n      <td>...</td>\n      <td>...</td>\n      <td>...</td>\n      <td>...</td>\n      <td>...</td>\n      <td>...</td>\n      <td>...</td>\n      <td>...</td>\n      <td>...</td>\n      <td>...</td>\n      <td>...</td>\n      <td>...</td>\n      <td>...</td>\n      <td>...</td>\n      <td>...</td>\n    </tr>\n    <tr>\n      <th>2020-10-12</th>\n      <td>-</td>\n      <td>-</td>\n      <td>-</td>\n      <td>-</td>\n      <td>-</td>\n      <td>-</td>\n      <td>-</td>\n      <td>-</td>\n      <td>-</td>\n      <td>-</td>\n      <td>...</td>\n      <td>-</td>\n      <td>-</td>\n      <td>-</td>\n      <td>-</td>\n      <td>-</td>\n      <td>-</td>\n      <td>-</td>\n      <td>-</td>\n      <td>-</td>\n      <td>-</td>\n    </tr>\n    <tr>\n      <th>2020-10-13</th>\n      <td>1.9</td>\n      <td>-</td>\n      <td>-</td>\n      <td>-</td>\n      <td>-</td>\n      <td>-</td>\n      <td>-</td>\n      <td>-</td>\n      <td>-</td>\n      <td>-</td>\n      <td>...</td>\n      <td>6.77</td>\n      <td>6.93</td>\n      <td>-</td>\n      <td>7.38</td>\n      <td>7.65</td>\n      <td>7.95</td>\n      <td>-</td>\n      <td>8.26</td>\n      <td>-</td>\n      <td>-</td>\n    </tr>\n    <tr>\n      <th>2020-10-14</th>\n      <td>1.9</td>\n      <td>-</td>\n      <td>-</td>\n      <td>-</td>\n      <td>-</td>\n      <td>-</td>\n      <td>-</td>\n      <td>-</td>\n      <td>-</td>\n      <td>-</td>\n      <td>...</td>\n      <td>6.82</td>\n      <td>6.91</td>\n      <td>7.15</td>\n      <td>7.37</td>\n      <td>7.67</td>\n      <td>7.91</td>\n      <td>-</td>\n      <td>8.22</td>\n      <td>-</td>\n      <td>-</td>\n    </tr>\n    <tr>\n      <th>2020-10-15</th>\n      <td>1.9</td>\n      <td>-</td>\n      <td>-</td>\n      <td>-</td>\n      <td>-</td>\n      <td>-</td>\n      <td>-</td>\n      <td>-</td>\n      <td>-</td>\n      <td>-</td>\n      <td>...</td>\n      <td>6.93</td>\n      <td>7.04</td>\n      <td>7.28</td>\n      <td>7.48</td>\n      <td>-</td>\n      <td>8.02</td>\n      <td>-</td>\n      <td>8.33</td>\n      <td>-</td>\n      <td>-</td>\n    </tr>\n    <tr>\n      <th>2020-10-16</th>\n      <td>1.9</td>\n      <td>-</td>\n      <td>-</td>\n      <td>-</td>\n      <td>-</td>\n      <td>-</td>\n      <td>-</td>\n      <td>-</td>\n      <td>-</td>\n      <td>-</td>\n      <td>...</td>\n      <td>6.99</td>\n      <td>7.11</td>\n      <td>7.31</td>\n      <td>7.53</td>\n      <td>7.84</td>\n      <td>8.06</td>\n      <td>-</td>\n      <td>8.36</td>\n      <td>-</td>\n      <td>-</td>\n    </tr>\n  </tbody>\n</table>\n<p>9032 rows × 117 columns</p>\n</div>"
     },
     "metadata": {},
     "execution_count": 15
    }
   ],
   "source": [
    "data"
   ]
  },
  {
   "cell_type": "code",
   "execution_count": 16,
   "metadata": {},
   "outputs": [],
   "source": [
    " def get_datetime_from_name(data):\n",
    "    \"\"\"\n",
    "    Returns datetime given columns with derivatives' names.\n",
    "    \"\"\"\n",
    "    letters_months = {'F':'01','G':'02','H':'03','J':'04','K':'05','M':'06','N':'07','Q':'08','U':'09','V':'10','X':'11','Z':'12'}\n",
    "    dates = []\n",
    "    i = 0\n",
    "    for column in data.columns:\n",
    "        i += 1\n",
    "        if i > 1:\n",
    "            month_l = column[-3:-2]\n",
    "            year_n  = column[-2:]\n",
    "            month_n = letters_months[month_l]\n",
    "            dates.append(f'{month_n}/20{year_n}')\n",
    "    datetime = pd.to_datetime(dates,format='%m/%Y')\n",
    "    return datetime\n",
    "\n",
    "datetime = get_datetime_from_name(data)"
   ]
  },
  {
   "cell_type": "code",
   "execution_count": 17,
   "metadata": {},
   "outputs": [],
   "source": [
    "def get_working_day_from_months(datetime):\n",
    "    cal = Brazil()\n",
    "    dates = []\n",
    "    for col in datetime:\n",
    "        work = cal.is_working_day(col)\n",
    "        if  work:\n",
    "            dates.append(col)\n",
    "        else:\n",
    "            new = cal.add_working_days(col, 1)\n",
    "            work = cal.is_working_day(new)\n",
    "            if work:\n",
    "                dates.append(new)\n",
    "            else:\n",
    "                print('deu merda')\n",
    "    dates = pd.to_datetime(dates)\n",
    "    cols = [0]\n",
    "    for d in dates:\n",
    "        cols.append(d)\n",
    "    return cols"
   ]
  },
  {
   "cell_type": "code",
   "execution_count": 18,
   "metadata": {},
   "outputs": [],
   "source": [
    "data.columns = get_working_day_from_months(datetime)"
   ]
  },
  {
   "cell_type": "code",
   "execution_count": 19,
   "metadata": {},
   "outputs": [
    {
     "output_type": "execute_result",
     "data": {
      "text/plain": [
       "                  0 2011-11-01 00:00:00 2012-01-02 00:00:00  \\\n",
       "Data                                                          \n",
       "1986-03-06  18.7148                   -                   -   \n",
       "1986-03-07        -                   -                   -   \n",
       "1986-03-10  18.9841                   -                   -   \n",
       "1986-03-11        -                   -                   -   \n",
       "1986-03-12  18.5057                   -                   -   \n",
       "...             ...                 ...                 ...   \n",
       "2020-10-12        -                   -                   -   \n",
       "2020-10-13      1.9                   -                   -   \n",
       "2020-10-14      1.9                   -                   -   \n",
       "2020-10-15      1.9                   -                   -   \n",
       "2020-10-16      1.9                   -                   -   \n",
       "\n",
       "           2012-04-02 00:00:00 2012-05-02 00:00:00 2012-06-01 00:00:00  \\\n",
       "Data                                                                     \n",
       "1986-03-06                   -                   -                   -   \n",
       "1986-03-07                   -                   -                   -   \n",
       "1986-03-10                   -                   -                   -   \n",
       "1986-03-11                   -                   -                   -   \n",
       "1986-03-12                   -                   -                   -   \n",
       "...                        ...                 ...                 ...   \n",
       "2020-10-12                   -                   -                   -   \n",
       "2020-10-13                   -                   -                   -   \n",
       "2020-10-14                   -                   -                   -   \n",
       "2020-10-15                   -                   -                   -   \n",
       "2020-10-16                   -                   -                   -   \n",
       "\n",
       "           2012-07-02 00:00:00 2012-08-01 00:00:00 2012-10-01 00:00:00  \\\n",
       "Data                                                                     \n",
       "1986-03-06                   -                   -                   -   \n",
       "1986-03-07                   -                   -                   -   \n",
       "1986-03-10                   -                   -                   -   \n",
       "1986-03-11                   -                   -                   -   \n",
       "1986-03-12                   -                   -                   -   \n",
       "...                        ...                 ...                 ...   \n",
       "2020-10-12                   -                   -                   -   \n",
       "2020-10-13                   -                   -                   -   \n",
       "2020-10-14                   -                   -                   -   \n",
       "2020-10-15                   -                   -                   -   \n",
       "2020-10-16                   -                   -                   -   \n",
       "\n",
       "           2012-11-01 00:00:00  ... 2025-10-01 00:00:00 2026-01-02 00:00:00  \\\n",
       "Data                            ...                                           \n",
       "1986-03-06                   -  ...                   -                   -   \n",
       "1986-03-07                   -  ...                   -                   -   \n",
       "1986-03-10                   -  ...                   -                   -   \n",
       "1986-03-11                   -  ...                   -                   -   \n",
       "1986-03-12                   -  ...                   -                   -   \n",
       "...                        ...  ...                 ...                 ...   \n",
       "2020-10-12                   -  ...                   -                   -   \n",
       "2020-10-13                   -  ...                6.77                6.93   \n",
       "2020-10-14                   -  ...                6.82                6.91   \n",
       "2020-10-15                   -  ...                6.93                7.04   \n",
       "2020-10-16                   -  ...                6.99                7.11   \n",
       "\n",
       "           2026-07-01 00:00:00 2027-01-04 00:00:00 2028-01-03 00:00:00  \\\n",
       "Data                                                                     \n",
       "1986-03-06                   -                   -                   -   \n",
       "1986-03-07                   -                   -                   -   \n",
       "1986-03-10                   -                   -                   -   \n",
       "1986-03-11                   -                   -                   -   \n",
       "1986-03-12                   -                   -                   -   \n",
       "...                        ...                 ...                 ...   \n",
       "2020-10-12                   -                   -                   -   \n",
       "2020-10-13                   -                7.38                7.65   \n",
       "2020-10-14                7.15                7.37                7.67   \n",
       "2020-10-15                7.28                7.48                   -   \n",
       "2020-10-16                7.31                7.53                7.84   \n",
       "\n",
       "           2029-01-02 00:00:00 2030-01-02 00:00:00 2031-01-02 00:00:00  \\\n",
       "Data                                                                     \n",
       "1986-03-06                   -                   -                   -   \n",
       "1986-03-07                   -                   -                   -   \n",
       "1986-03-10                   -                   -                   -   \n",
       "1986-03-11                   -                   -                   -   \n",
       "1986-03-12                   -                   -                   -   \n",
       "...                        ...                 ...                 ...   \n",
       "2020-10-12                   -                   -                   -   \n",
       "2020-10-13                7.95                   -                8.26   \n",
       "2020-10-14                7.91                   -                8.22   \n",
       "2020-10-15                8.02                   -                8.33   \n",
       "2020-10-16                8.06                   -                8.36   \n",
       "\n",
       "           2033-01-03 00:00:00 2035-01-02 00:00:00  \n",
       "Data                                                \n",
       "1986-03-06                   -                   -  \n",
       "1986-03-07                   -                   -  \n",
       "1986-03-10                   -                   -  \n",
       "1986-03-11                   -                   -  \n",
       "1986-03-12                   -                   -  \n",
       "...                        ...                 ...  \n",
       "2020-10-12                   -                   -  \n",
       "2020-10-13                   -                   -  \n",
       "2020-10-14                   -                   -  \n",
       "2020-10-15                   -                   -  \n",
       "2020-10-16                   -                   -  \n",
       "\n",
       "[9032 rows x 117 columns]"
      ],
      "text/html": "<div>\n<style scoped>\n    .dataframe tbody tr th:only-of-type {\n        vertical-align: middle;\n    }\n\n    .dataframe tbody tr th {\n        vertical-align: top;\n    }\n\n    .dataframe thead th {\n        text-align: right;\n    }\n</style>\n<table border=\"1\" class=\"dataframe\">\n  <thead>\n    <tr style=\"text-align: right;\">\n      <th></th>\n      <th>0</th>\n      <th>2011-11-01 00:00:00</th>\n      <th>2012-01-02 00:00:00</th>\n      <th>2012-04-02 00:00:00</th>\n      <th>2012-05-02 00:00:00</th>\n      <th>2012-06-01 00:00:00</th>\n      <th>2012-07-02 00:00:00</th>\n      <th>2012-08-01 00:00:00</th>\n      <th>2012-10-01 00:00:00</th>\n      <th>2012-11-01 00:00:00</th>\n      <th>...</th>\n      <th>2025-10-01 00:00:00</th>\n      <th>2026-01-02 00:00:00</th>\n      <th>2026-07-01 00:00:00</th>\n      <th>2027-01-04 00:00:00</th>\n      <th>2028-01-03 00:00:00</th>\n      <th>2029-01-02 00:00:00</th>\n      <th>2030-01-02 00:00:00</th>\n      <th>2031-01-02 00:00:00</th>\n      <th>2033-01-03 00:00:00</th>\n      <th>2035-01-02 00:00:00</th>\n    </tr>\n    <tr>\n      <th>Data</th>\n      <th></th>\n      <th></th>\n      <th></th>\n      <th></th>\n      <th></th>\n      <th></th>\n      <th></th>\n      <th></th>\n      <th></th>\n      <th></th>\n      <th></th>\n      <th></th>\n      <th></th>\n      <th></th>\n      <th></th>\n      <th></th>\n      <th></th>\n      <th></th>\n      <th></th>\n      <th></th>\n      <th></th>\n    </tr>\n  </thead>\n  <tbody>\n    <tr>\n      <th>1986-03-06</th>\n      <td>18.7148</td>\n      <td>-</td>\n      <td>-</td>\n      <td>-</td>\n      <td>-</td>\n      <td>-</td>\n      <td>-</td>\n      <td>-</td>\n      <td>-</td>\n      <td>-</td>\n      <td>...</td>\n      <td>-</td>\n      <td>-</td>\n      <td>-</td>\n      <td>-</td>\n      <td>-</td>\n      <td>-</td>\n      <td>-</td>\n      <td>-</td>\n      <td>-</td>\n      <td>-</td>\n    </tr>\n    <tr>\n      <th>1986-03-07</th>\n      <td>-</td>\n      <td>-</td>\n      <td>-</td>\n      <td>-</td>\n      <td>-</td>\n      <td>-</td>\n      <td>-</td>\n      <td>-</td>\n      <td>-</td>\n      <td>-</td>\n      <td>...</td>\n      <td>-</td>\n      <td>-</td>\n      <td>-</td>\n      <td>-</td>\n      <td>-</td>\n      <td>-</td>\n      <td>-</td>\n      <td>-</td>\n      <td>-</td>\n      <td>-</td>\n    </tr>\n    <tr>\n      <th>1986-03-10</th>\n      <td>18.9841</td>\n      <td>-</td>\n      <td>-</td>\n      <td>-</td>\n      <td>-</td>\n      <td>-</td>\n      <td>-</td>\n      <td>-</td>\n      <td>-</td>\n      <td>-</td>\n      <td>...</td>\n      <td>-</td>\n      <td>-</td>\n      <td>-</td>\n      <td>-</td>\n      <td>-</td>\n      <td>-</td>\n      <td>-</td>\n      <td>-</td>\n      <td>-</td>\n      <td>-</td>\n    </tr>\n    <tr>\n      <th>1986-03-11</th>\n      <td>-</td>\n      <td>-</td>\n      <td>-</td>\n      <td>-</td>\n      <td>-</td>\n      <td>-</td>\n      <td>-</td>\n      <td>-</td>\n      <td>-</td>\n      <td>-</td>\n      <td>...</td>\n      <td>-</td>\n      <td>-</td>\n      <td>-</td>\n      <td>-</td>\n      <td>-</td>\n      <td>-</td>\n      <td>-</td>\n      <td>-</td>\n      <td>-</td>\n      <td>-</td>\n    </tr>\n    <tr>\n      <th>1986-03-12</th>\n      <td>18.5057</td>\n      <td>-</td>\n      <td>-</td>\n      <td>-</td>\n      <td>-</td>\n      <td>-</td>\n      <td>-</td>\n      <td>-</td>\n      <td>-</td>\n      <td>-</td>\n      <td>...</td>\n      <td>-</td>\n      <td>-</td>\n      <td>-</td>\n      <td>-</td>\n      <td>-</td>\n      <td>-</td>\n      <td>-</td>\n      <td>-</td>\n      <td>-</td>\n      <td>-</td>\n    </tr>\n    <tr>\n      <th>...</th>\n      <td>...</td>\n      <td>...</td>\n      <td>...</td>\n      <td>...</td>\n      <td>...</td>\n      <td>...</td>\n      <td>...</td>\n      <td>...</td>\n      <td>...</td>\n      <td>...</td>\n      <td>...</td>\n      <td>...</td>\n      <td>...</td>\n      <td>...</td>\n      <td>...</td>\n      <td>...</td>\n      <td>...</td>\n      <td>...</td>\n      <td>...</td>\n      <td>...</td>\n      <td>...</td>\n    </tr>\n    <tr>\n      <th>2020-10-12</th>\n      <td>-</td>\n      <td>-</td>\n      <td>-</td>\n      <td>-</td>\n      <td>-</td>\n      <td>-</td>\n      <td>-</td>\n      <td>-</td>\n      <td>-</td>\n      <td>-</td>\n      <td>...</td>\n      <td>-</td>\n      <td>-</td>\n      <td>-</td>\n      <td>-</td>\n      <td>-</td>\n      <td>-</td>\n      <td>-</td>\n      <td>-</td>\n      <td>-</td>\n      <td>-</td>\n    </tr>\n    <tr>\n      <th>2020-10-13</th>\n      <td>1.9</td>\n      <td>-</td>\n      <td>-</td>\n      <td>-</td>\n      <td>-</td>\n      <td>-</td>\n      <td>-</td>\n      <td>-</td>\n      <td>-</td>\n      <td>-</td>\n      <td>...</td>\n      <td>6.77</td>\n      <td>6.93</td>\n      <td>-</td>\n      <td>7.38</td>\n      <td>7.65</td>\n      <td>7.95</td>\n      <td>-</td>\n      <td>8.26</td>\n      <td>-</td>\n      <td>-</td>\n    </tr>\n    <tr>\n      <th>2020-10-14</th>\n      <td>1.9</td>\n      <td>-</td>\n      <td>-</td>\n      <td>-</td>\n      <td>-</td>\n      <td>-</td>\n      <td>-</td>\n      <td>-</td>\n      <td>-</td>\n      <td>-</td>\n      <td>...</td>\n      <td>6.82</td>\n      <td>6.91</td>\n      <td>7.15</td>\n      <td>7.37</td>\n      <td>7.67</td>\n      <td>7.91</td>\n      <td>-</td>\n      <td>8.22</td>\n      <td>-</td>\n      <td>-</td>\n    </tr>\n    <tr>\n      <th>2020-10-15</th>\n      <td>1.9</td>\n      <td>-</td>\n      <td>-</td>\n      <td>-</td>\n      <td>-</td>\n      <td>-</td>\n      <td>-</td>\n      <td>-</td>\n      <td>-</td>\n      <td>-</td>\n      <td>...</td>\n      <td>6.93</td>\n      <td>7.04</td>\n      <td>7.28</td>\n      <td>7.48</td>\n      <td>-</td>\n      <td>8.02</td>\n      <td>-</td>\n      <td>8.33</td>\n      <td>-</td>\n      <td>-</td>\n    </tr>\n    <tr>\n      <th>2020-10-16</th>\n      <td>1.9</td>\n      <td>-</td>\n      <td>-</td>\n      <td>-</td>\n      <td>-</td>\n      <td>-</td>\n      <td>-</td>\n      <td>-</td>\n      <td>-</td>\n      <td>-</td>\n      <td>...</td>\n      <td>6.99</td>\n      <td>7.11</td>\n      <td>7.31</td>\n      <td>7.53</td>\n      <td>7.84</td>\n      <td>8.06</td>\n      <td>-</td>\n      <td>8.36</td>\n      <td>-</td>\n      <td>-</td>\n    </tr>\n  </tbody>\n</table>\n<p>9032 rows × 117 columns</p>\n</div>"
     },
     "metadata": {},
     "execution_count": 19
    }
   ],
   "source": [
    "data"
   ]
  },
  {
   "cell_type": "code",
   "execution_count": 20,
   "metadata": {},
   "outputs": [
    {
     "output_type": "stream",
     "name": "stdout",
     "text": [
      "Progress: [--------------------] 0.0% \n"
     ]
    },
    {
     "output_type": "error",
     "ename": "AttributeError",
     "evalue": "'DatetimeIndex' object has no attribute 'timedelta'",
     "traceback": [
      "\u001b[0;31m---------------------------------------------------------------------------\u001b[0m",
      "\u001b[0;31mAttributeError\u001b[0m                            Traceback (most recent call last)",
      "\u001b[0;32m<ipython-input-20-67d8f1ee1720>\u001b[0m in \u001b[0;36m<module>\u001b[0;34m\u001b[0m\n\u001b[1;32m     10\u001b[0m         \u001b[0me\u001b[0m \u001b[0;34m+=\u001b[0m \u001b[0;36m1\u001b[0m\u001b[0;34m\u001b[0m\u001b[0;34m\u001b[0m\u001b[0m\n\u001b[1;32m     11\u001b[0m         \u001b[0;32mif\u001b[0m \u001b[0me\u001b[0m \u001b[0;34m==\u001b[0m \u001b[0;36m1\u001b[0m\u001b[0;34m:\u001b[0m\u001b[0;34m\u001b[0m\u001b[0;34m\u001b[0m\u001b[0m\n\u001b[0;32m---> 12\u001b[0;31m             \u001b[0mdays\u001b[0m \u001b[0;34m=\u001b[0m \u001b[0mdatetime\u001b[0m\u001b[0;34m.\u001b[0m\u001b[0mtimedelta\u001b[0m\u001b[0;34m(\u001b[0m\u001b[0;36m0\u001b[0m\u001b[0;34m)\u001b[0m\u001b[0;34m\u001b[0m\u001b[0;34m\u001b[0m\u001b[0m\n\u001b[0m\u001b[1;32m     13\u001b[0m             \u001b[0mvalue\u001b[0m \u001b[0;34m=\u001b[0m \u001b[0mdata\u001b[0m\u001b[0;34m[\u001b[0m\u001b[0mcolumn\u001b[0m\u001b[0;34m]\u001b[0m\u001b[0;34m[\u001b[0m\u001b[0mindex\u001b[0m\u001b[0;34m]\u001b[0m\u001b[0;34m\u001b[0m\u001b[0;34m\u001b[0m\u001b[0m\n\u001b[1;32m     14\u001b[0m             \u001b[0;32mif\u001b[0m \u001b[0mtype\u001b[0m\u001b[0;34m(\u001b[0m\u001b[0mvalue\u001b[0m\u001b[0;34m)\u001b[0m \u001b[0;34m==\u001b[0m \u001b[0mfloat\u001b[0m\u001b[0;34m:\u001b[0m\u001b[0;34m\u001b[0m\u001b[0;34m\u001b[0m\u001b[0m\n",
      "\u001b[0;31mAttributeError\u001b[0m: 'DatetimeIndex' object has no attribute 'timedelta'"
     ]
    }
   ],
   "source": [
    "\n",
    "progress.update(0)\n",
    "lenght = len(data)\n",
    "df = pd.DataFrame()\n",
    "i = 0\n",
    "for index in data.index:\n",
    "    i += 1\n",
    "    dictio = {}\n",
    "    e = 0\n",
    "    for column in data.columns:\n",
    "        e += 1\n",
    "        if e == 1:\n",
    "            days = datetime.timedelta(0)\n",
    "            value = data[column][index]\n",
    "            if type(value) == float:\n",
    "                dictio[days] = value\n",
    "        else:\n",
    "            days  = column - index\n",
    "            value = data[column][index]\n",
    "            if type(value) == float:\n",
    "                dictio[days] = value\n",
    "    series = pd.Series(dictio,name=index)\n",
    "    df = df.append(series)\n",
    "    progress.update(i/lenght)"
   ]
  },
  {
   "cell_type": "code",
   "execution_count": null,
   "metadata": {},
   "outputs": [],
   "source": [
    "df = df.reindex(sorted(df.columns), axis=1)\n",
    "df.to_pickle('df.pickle')"
   ]
  },
  {
   "cell_type": "code",
   "execution_count": null,
   "metadata": {},
   "outputs": [],
   "source": [
    "df.head()"
   ]
  },
  {
   "cell_type": "code",
   "execution_count": null,
   "metadata": {},
   "outputs": [],
   "source": [
    "d = df.iloc[:,:]\n",
    "\n",
    "\n",
    "dat = d.to_numpy()\n",
    "col = np.linspace(1,len(d.columns),len(d.columns))\n",
    "ind = np.linspace(0,len(d.index)-1,len(d.index))\n",
    "\n",
    "\n",
    "X = np.array([[i for e in col] for i in ind])\n",
    "\n",
    "Y = np.array([col for i in ind])\n",
    "\n",
    "Z = dat"
   ]
  },
  {
   "cell_type": "code",
   "execution_count": null,
   "metadata": {},
   "outputs": [],
   "source": [
    "from mpl_toolkits.mplot3d import Axes3D\n",
    "fig = plt.figure(figsize=(20,12))\n",
    "ax = fig.add_subplot(111, projection='3d')\n",
    "ax.scatter(X, Y, Z)\n",
    "plt.show()"
   ]
  },
  {
   "cell_type": "code",
   "execution_count": 163,
   "metadata": {
    "tags": []
   },
   "outputs": [],
   "source": [
    "a = d.iloc[1000:1001,:].dropna(axis=1)"
   ]
  },
  {
   "cell_type": "code",
   "execution_count": 173,
   "metadata": {},
   "outputs": [],
   "source": [
    "dat = a.to_numpy()[0]\n",
    "ind = a.columns.to_numpy() / np.timedelta64(1, 'D')"
   ]
  },
  {
   "cell_type": "code",
   "execution_count": 177,
   "metadata": {},
   "outputs": [
    {
     "output_type": "display_data",
     "data": {
      "text/plain": "<Figure size 432x288 with 1 Axes>",
      "image/svg+xml": "<?xml version=\"1.0\" encoding=\"utf-8\" standalone=\"no\"?>\n<!DOCTYPE svg PUBLIC \"-//W3C//DTD SVG 1.1//EN\"\n  \"http://www.w3.org/Graphics/SVG/1.1/DTD/svg11.dtd\">\n<!-- Created with matplotlib (https://matplotlib.org/) -->\n<svg height=\"248.518125pt\" version=\"1.1\" viewBox=\"0 0 372.103125 248.518125\" width=\"372.103125pt\" xmlns=\"http://www.w3.org/2000/svg\" xmlns:xlink=\"http://www.w3.org/1999/xlink\">\n <defs>\n  <style type=\"text/css\">\n*{stroke-linecap:butt;stroke-linejoin:round;}\n  </style>\n </defs>\n <g id=\"figure_1\">\n  <g id=\"patch_1\">\n   <path d=\"M 0 248.518125 \nL 372.103125 248.518125 \nL 372.103125 0 \nL 0 0 \nz\n\" style=\"fill:none;\"/>\n  </g>\n  <g id=\"axes_1\">\n   <g id=\"patch_2\">\n    <path d=\"M 30.103125 224.64 \nL 364.903125 224.64 \nL 364.903125 7.2 \nL 30.103125 7.2 \nz\n\" style=\"fill:#ffffff;\"/>\n   </g>\n   <g id=\"matplotlib.axis_1\">\n    <g id=\"xtick_1\">\n     <g id=\"line2d_1\">\n      <defs>\n       <path d=\"M 0 0 \nL 0 3.5 \n\" id=\"maf7973c147\" style=\"stroke:#000000;stroke-width:0.8;\"/>\n      </defs>\n      <g>\n       <use style=\"stroke:#000000;stroke-width:0.8;\" x=\"45.321307\" xlink:href=\"#maf7973c147\" y=\"224.64\"/>\n      </g>\n     </g>\n     <g id=\"text_1\">\n      <!-- 0 -->\n      <defs>\n       <path d=\"M 31.78125 66.40625 \nQ 24.171875 66.40625 20.328125 58.90625 \nQ 16.5 51.421875 16.5 36.375 \nQ 16.5 21.390625 20.328125 13.890625 \nQ 24.171875 6.390625 31.78125 6.390625 \nQ 39.453125 6.390625 43.28125 13.890625 \nQ 47.125 21.390625 47.125 36.375 \nQ 47.125 51.421875 43.28125 58.90625 \nQ 39.453125 66.40625 31.78125 66.40625 \nz\nM 31.78125 74.21875 \nQ 44.046875 74.21875 50.515625 64.515625 \nQ 56.984375 54.828125 56.984375 36.375 \nQ 56.984375 17.96875 50.515625 8.265625 \nQ 44.046875 -1.421875 31.78125 -1.421875 \nQ 19.53125 -1.421875 13.0625 8.265625 \nQ 6.59375 17.96875 6.59375 36.375 \nQ 6.59375 54.828125 13.0625 64.515625 \nQ 19.53125 74.21875 31.78125 74.21875 \nz\n\" id=\"DejaVuSans-48\"/>\n      </defs>\n      <g transform=\"translate(42.140057 239.238437)scale(0.1 -0.1)\">\n       <use xlink:href=\"#DejaVuSans-48\"/>\n      </g>\n     </g>\n    </g>\n    <g id=\"xtick_2\">\n     <g id=\"line2d_2\">\n      <g>\n       <use style=\"stroke:#000000;stroke-width:0.8;\" x=\"87.003536\" xlink:href=\"#maf7973c147\" y=\"224.64\"/>\n      </g>\n     </g>\n     <g id=\"text_2\">\n      <!-- 500 -->\n      <defs>\n       <path d=\"M 10.796875 72.90625 \nL 49.515625 72.90625 \nL 49.515625 64.59375 \nL 19.828125 64.59375 \nL 19.828125 46.734375 \nQ 21.96875 47.46875 24.109375 47.828125 \nQ 26.265625 48.1875 28.421875 48.1875 \nQ 40.625 48.1875 47.75 41.5 \nQ 54.890625 34.8125 54.890625 23.390625 \nQ 54.890625 11.625 47.5625 5.09375 \nQ 40.234375 -1.421875 26.90625 -1.421875 \nQ 22.3125 -1.421875 17.546875 -0.640625 \nQ 12.796875 0.140625 7.71875 1.703125 \nL 7.71875 11.625 \nQ 12.109375 9.234375 16.796875 8.0625 \nQ 21.484375 6.890625 26.703125 6.890625 \nQ 35.15625 6.890625 40.078125 11.328125 \nQ 45.015625 15.765625 45.015625 23.390625 \nQ 45.015625 31 40.078125 35.4375 \nQ 35.15625 39.890625 26.703125 39.890625 \nQ 22.75 39.890625 18.8125 39.015625 \nQ 14.890625 38.140625 10.796875 36.28125 \nz\n\" id=\"DejaVuSans-53\"/>\n      </defs>\n      <g transform=\"translate(77.459786 239.238437)scale(0.1 -0.1)\">\n       <use xlink:href=\"#DejaVuSans-53\"/>\n       <use x=\"63.623047\" xlink:href=\"#DejaVuSans-48\"/>\n       <use x=\"127.246094\" xlink:href=\"#DejaVuSans-48\"/>\n      </g>\n     </g>\n    </g>\n    <g id=\"xtick_3\">\n     <g id=\"line2d_3\">\n      <g>\n       <use style=\"stroke:#000000;stroke-width:0.8;\" x=\"128.685765\" xlink:href=\"#maf7973c147\" y=\"224.64\"/>\n      </g>\n     </g>\n     <g id=\"text_3\">\n      <!-- 1000 -->\n      <defs>\n       <path d=\"M 12.40625 8.296875 \nL 28.515625 8.296875 \nL 28.515625 63.921875 \nL 10.984375 60.40625 \nL 10.984375 69.390625 \nL 28.421875 72.90625 \nL 38.28125 72.90625 \nL 38.28125 8.296875 \nL 54.390625 8.296875 \nL 54.390625 0 \nL 12.40625 0 \nz\n\" id=\"DejaVuSans-49\"/>\n      </defs>\n      <g transform=\"translate(115.960765 239.238437)scale(0.1 -0.1)\">\n       <use xlink:href=\"#DejaVuSans-49\"/>\n       <use x=\"63.623047\" xlink:href=\"#DejaVuSans-48\"/>\n       <use x=\"127.246094\" xlink:href=\"#DejaVuSans-48\"/>\n       <use x=\"190.869141\" xlink:href=\"#DejaVuSans-48\"/>\n      </g>\n     </g>\n    </g>\n    <g id=\"xtick_4\">\n     <g id=\"line2d_4\">\n      <g>\n       <use style=\"stroke:#000000;stroke-width:0.8;\" x=\"170.367994\" xlink:href=\"#maf7973c147\" y=\"224.64\"/>\n      </g>\n     </g>\n     <g id=\"text_4\">\n      <!-- 1500 -->\n      <g transform=\"translate(157.642994 239.238437)scale(0.1 -0.1)\">\n       <use xlink:href=\"#DejaVuSans-49\"/>\n       <use x=\"63.623047\" xlink:href=\"#DejaVuSans-53\"/>\n       <use x=\"127.246094\" xlink:href=\"#DejaVuSans-48\"/>\n       <use x=\"190.869141\" xlink:href=\"#DejaVuSans-48\"/>\n      </g>\n     </g>\n    </g>\n    <g id=\"xtick_5\">\n     <g id=\"line2d_5\">\n      <g>\n       <use style=\"stroke:#000000;stroke-width:0.8;\" x=\"212.050223\" xlink:href=\"#maf7973c147\" y=\"224.64\"/>\n      </g>\n     </g>\n     <g id=\"text_5\">\n      <!-- 2000 -->\n      <defs>\n       <path d=\"M 19.1875 8.296875 \nL 53.609375 8.296875 \nL 53.609375 0 \nL 7.328125 0 \nL 7.328125 8.296875 \nQ 12.9375 14.109375 22.625 23.890625 \nQ 32.328125 33.6875 34.8125 36.53125 \nQ 39.546875 41.84375 41.421875 45.53125 \nQ 43.3125 49.21875 43.3125 52.78125 \nQ 43.3125 58.59375 39.234375 62.25 \nQ 35.15625 65.921875 28.609375 65.921875 \nQ 23.96875 65.921875 18.8125 64.3125 \nQ 13.671875 62.703125 7.8125 59.421875 \nL 7.8125 69.390625 \nQ 13.765625 71.78125 18.9375 73 \nQ 24.125 74.21875 28.421875 74.21875 \nQ 39.75 74.21875 46.484375 68.546875 \nQ 53.21875 62.890625 53.21875 53.421875 \nQ 53.21875 48.921875 51.53125 44.890625 \nQ 49.859375 40.875 45.40625 35.40625 \nQ 44.1875 33.984375 37.640625 27.21875 \nQ 31.109375 20.453125 19.1875 8.296875 \nz\n\" id=\"DejaVuSans-50\"/>\n      </defs>\n      <g transform=\"translate(199.325223 239.238437)scale(0.1 -0.1)\">\n       <use xlink:href=\"#DejaVuSans-50\"/>\n       <use x=\"63.623047\" xlink:href=\"#DejaVuSans-48\"/>\n       <use x=\"127.246094\" xlink:href=\"#DejaVuSans-48\"/>\n       <use x=\"190.869141\" xlink:href=\"#DejaVuSans-48\"/>\n      </g>\n     </g>\n    </g>\n    <g id=\"xtick_6\">\n     <g id=\"line2d_6\">\n      <g>\n       <use style=\"stroke:#000000;stroke-width:0.8;\" x=\"253.732452\" xlink:href=\"#maf7973c147\" y=\"224.64\"/>\n      </g>\n     </g>\n     <g id=\"text_6\">\n      <!-- 2500 -->\n      <g transform=\"translate(241.007452 239.238437)scale(0.1 -0.1)\">\n       <use xlink:href=\"#DejaVuSans-50\"/>\n       <use x=\"63.623047\" xlink:href=\"#DejaVuSans-53\"/>\n       <use x=\"127.246094\" xlink:href=\"#DejaVuSans-48\"/>\n       <use x=\"190.869141\" xlink:href=\"#DejaVuSans-48\"/>\n      </g>\n     </g>\n    </g>\n    <g id=\"xtick_7\">\n     <g id=\"line2d_7\">\n      <g>\n       <use style=\"stroke:#000000;stroke-width:0.8;\" x=\"295.414681\" xlink:href=\"#maf7973c147\" y=\"224.64\"/>\n      </g>\n     </g>\n     <g id=\"text_7\">\n      <!-- 3000 -->\n      <defs>\n       <path d=\"M 40.578125 39.3125 \nQ 47.65625 37.796875 51.625 33 \nQ 55.609375 28.21875 55.609375 21.1875 \nQ 55.609375 10.40625 48.1875 4.484375 \nQ 40.765625 -1.421875 27.09375 -1.421875 \nQ 22.515625 -1.421875 17.65625 -0.515625 \nQ 12.796875 0.390625 7.625 2.203125 \nL 7.625 11.71875 \nQ 11.71875 9.328125 16.59375 8.109375 \nQ 21.484375 6.890625 26.8125 6.890625 \nQ 36.078125 6.890625 40.9375 10.546875 \nQ 45.796875 14.203125 45.796875 21.1875 \nQ 45.796875 27.640625 41.28125 31.265625 \nQ 36.765625 34.90625 28.71875 34.90625 \nL 20.21875 34.90625 \nL 20.21875 43.015625 \nL 29.109375 43.015625 \nQ 36.375 43.015625 40.234375 45.921875 \nQ 44.09375 48.828125 44.09375 54.296875 \nQ 44.09375 59.90625 40.109375 62.90625 \nQ 36.140625 65.921875 28.71875 65.921875 \nQ 24.65625 65.921875 20.015625 65.03125 \nQ 15.375 64.15625 9.8125 62.3125 \nL 9.8125 71.09375 \nQ 15.4375 72.65625 20.34375 73.4375 \nQ 25.25 74.21875 29.59375 74.21875 \nQ 40.828125 74.21875 47.359375 69.109375 \nQ 53.90625 64.015625 53.90625 55.328125 \nQ 53.90625 49.265625 50.4375 45.09375 \nQ 46.96875 40.921875 40.578125 39.3125 \nz\n\" id=\"DejaVuSans-51\"/>\n      </defs>\n      <g transform=\"translate(282.689681 239.238437)scale(0.1 -0.1)\">\n       <use xlink:href=\"#DejaVuSans-51\"/>\n       <use x=\"63.623047\" xlink:href=\"#DejaVuSans-48\"/>\n       <use x=\"127.246094\" xlink:href=\"#DejaVuSans-48\"/>\n       <use x=\"190.869141\" xlink:href=\"#DejaVuSans-48\"/>\n      </g>\n     </g>\n    </g>\n    <g id=\"xtick_8\">\n     <g id=\"line2d_8\">\n      <g>\n       <use style=\"stroke:#000000;stroke-width:0.8;\" x=\"337.09691\" xlink:href=\"#maf7973c147\" y=\"224.64\"/>\n      </g>\n     </g>\n     <g id=\"text_8\">\n      <!-- 3500 -->\n      <g transform=\"translate(324.37191 239.238437)scale(0.1 -0.1)\">\n       <use xlink:href=\"#DejaVuSans-51\"/>\n       <use x=\"63.623047\" xlink:href=\"#DejaVuSans-53\"/>\n       <use x=\"127.246094\" xlink:href=\"#DejaVuSans-48\"/>\n       <use x=\"190.869141\" xlink:href=\"#DejaVuSans-48\"/>\n      </g>\n     </g>\n    </g>\n   </g>\n   <g id=\"matplotlib.axis_2\">\n    <g id=\"ytick_1\">\n     <g id=\"line2d_9\">\n      <defs>\n       <path d=\"M 0 0 \nL -3.5 0 \n\" id=\"me6dc42b0fa\" style=\"stroke:#000000;stroke-width:0.8;\"/>\n      </defs>\n      <g>\n       <use style=\"stroke:#000000;stroke-width:0.8;\" x=\"30.103125\" xlink:href=\"#me6dc42b0fa\" y=\"206.380401\"/>\n      </g>\n     </g>\n     <g id=\"text_9\">\n      <!-- 7.0 -->\n      <defs>\n       <path d=\"M 8.203125 72.90625 \nL 55.078125 72.90625 \nL 55.078125 68.703125 \nL 28.609375 0 \nL 18.3125 0 \nL 43.21875 64.59375 \nL 8.203125 64.59375 \nz\n\" id=\"DejaVuSans-55\"/>\n       <path d=\"M 10.6875 12.40625 \nL 21 12.40625 \nL 21 0 \nL 10.6875 0 \nz\n\" id=\"DejaVuSans-46\"/>\n      </defs>\n      <g transform=\"translate(7.2 210.179619)scale(0.1 -0.1)\">\n       <use xlink:href=\"#DejaVuSans-55\"/>\n       <use x=\"63.623047\" xlink:href=\"#DejaVuSans-46\"/>\n       <use x=\"95.410156\" xlink:href=\"#DejaVuSans-48\"/>\n      </g>\n     </g>\n    </g>\n    <g id=\"ytick_2\">\n     <g id=\"line2d_10\">\n      <g>\n       <use style=\"stroke:#000000;stroke-width:0.8;\" x=\"30.103125\" xlink:href=\"#me6dc42b0fa\" y=\"164.500586\"/>\n      </g>\n     </g>\n     <g id=\"text_10\">\n      <!-- 7.5 -->\n      <g transform=\"translate(7.2 168.299804)scale(0.1 -0.1)\">\n       <use xlink:href=\"#DejaVuSans-55\"/>\n       <use x=\"63.623047\" xlink:href=\"#DejaVuSans-46\"/>\n       <use x=\"95.410156\" xlink:href=\"#DejaVuSans-53\"/>\n      </g>\n     </g>\n    </g>\n    <g id=\"ytick_3\">\n     <g id=\"line2d_11\">\n      <g>\n       <use style=\"stroke:#000000;stroke-width:0.8;\" x=\"30.103125\" xlink:href=\"#me6dc42b0fa\" y=\"122.62077\"/>\n      </g>\n     </g>\n     <g id=\"text_11\">\n      <!-- 8.0 -->\n      <defs>\n       <path d=\"M 31.78125 34.625 \nQ 24.75 34.625 20.71875 30.859375 \nQ 16.703125 27.09375 16.703125 20.515625 \nQ 16.703125 13.921875 20.71875 10.15625 \nQ 24.75 6.390625 31.78125 6.390625 \nQ 38.8125 6.390625 42.859375 10.171875 \nQ 46.921875 13.96875 46.921875 20.515625 \nQ 46.921875 27.09375 42.890625 30.859375 \nQ 38.875 34.625 31.78125 34.625 \nz\nM 21.921875 38.8125 \nQ 15.578125 40.375 12.03125 44.71875 \nQ 8.5 49.078125 8.5 55.328125 \nQ 8.5 64.0625 14.71875 69.140625 \nQ 20.953125 74.21875 31.78125 74.21875 \nQ 42.671875 74.21875 48.875 69.140625 \nQ 55.078125 64.0625 55.078125 55.328125 \nQ 55.078125 49.078125 51.53125 44.71875 \nQ 48 40.375 41.703125 38.8125 \nQ 48.828125 37.15625 52.796875 32.3125 \nQ 56.78125 27.484375 56.78125 20.515625 \nQ 56.78125 9.90625 50.3125 4.234375 \nQ 43.84375 -1.421875 31.78125 -1.421875 \nQ 19.734375 -1.421875 13.25 4.234375 \nQ 6.78125 9.90625 6.78125 20.515625 \nQ 6.78125 27.484375 10.78125 32.3125 \nQ 14.796875 37.15625 21.921875 38.8125 \nz\nM 18.3125 54.390625 \nQ 18.3125 48.734375 21.84375 45.5625 \nQ 25.390625 42.390625 31.78125 42.390625 \nQ 38.140625 42.390625 41.71875 45.5625 \nQ 45.3125 48.734375 45.3125 54.390625 \nQ 45.3125 60.0625 41.71875 63.234375 \nQ 38.140625 66.40625 31.78125 66.40625 \nQ 25.390625 66.40625 21.84375 63.234375 \nQ 18.3125 60.0625 18.3125 54.390625 \nz\n\" id=\"DejaVuSans-56\"/>\n      </defs>\n      <g transform=\"translate(7.2 126.419989)scale(0.1 -0.1)\">\n       <use xlink:href=\"#DejaVuSans-56\"/>\n       <use x=\"63.623047\" xlink:href=\"#DejaVuSans-46\"/>\n       <use x=\"95.410156\" xlink:href=\"#DejaVuSans-48\"/>\n      </g>\n     </g>\n    </g>\n    <g id=\"ytick_4\">\n     <g id=\"line2d_12\">\n      <g>\n       <use style=\"stroke:#000000;stroke-width:0.8;\" x=\"30.103125\" xlink:href=\"#me6dc42b0fa\" y=\"80.740955\"/>\n      </g>\n     </g>\n     <g id=\"text_12\">\n      <!-- 8.5 -->\n      <g transform=\"translate(7.2 84.540174)scale(0.1 -0.1)\">\n       <use xlink:href=\"#DejaVuSans-56\"/>\n       <use x=\"63.623047\" xlink:href=\"#DejaVuSans-46\"/>\n       <use x=\"95.410156\" xlink:href=\"#DejaVuSans-53\"/>\n      </g>\n     </g>\n    </g>\n    <g id=\"ytick_5\">\n     <g id=\"line2d_13\">\n      <g>\n       <use style=\"stroke:#000000;stroke-width:0.8;\" x=\"30.103125\" xlink:href=\"#me6dc42b0fa\" y=\"38.86114\"/>\n      </g>\n     </g>\n     <g id=\"text_13\">\n      <!-- 9.0 -->\n      <defs>\n       <path d=\"M 10.984375 1.515625 \nL 10.984375 10.5 \nQ 14.703125 8.734375 18.5 7.8125 \nQ 22.3125 6.890625 25.984375 6.890625 \nQ 35.75 6.890625 40.890625 13.453125 \nQ 46.046875 20.015625 46.78125 33.40625 \nQ 43.953125 29.203125 39.59375 26.953125 \nQ 35.25 24.703125 29.984375 24.703125 \nQ 19.046875 24.703125 12.671875 31.3125 \nQ 6.296875 37.9375 6.296875 49.421875 \nQ 6.296875 60.640625 12.9375 67.421875 \nQ 19.578125 74.21875 30.609375 74.21875 \nQ 43.265625 74.21875 49.921875 64.515625 \nQ 56.59375 54.828125 56.59375 36.375 \nQ 56.59375 19.140625 48.40625 8.859375 \nQ 40.234375 -1.421875 26.421875 -1.421875 \nQ 22.703125 -1.421875 18.890625 -0.6875 \nQ 15.09375 0.046875 10.984375 1.515625 \nz\nM 30.609375 32.421875 \nQ 37.25 32.421875 41.125 36.953125 \nQ 45.015625 41.5 45.015625 49.421875 \nQ 45.015625 57.28125 41.125 61.84375 \nQ 37.25 66.40625 30.609375 66.40625 \nQ 23.96875 66.40625 20.09375 61.84375 \nQ 16.21875 57.28125 16.21875 49.421875 \nQ 16.21875 41.5 20.09375 36.953125 \nQ 23.96875 32.421875 30.609375 32.421875 \nz\n\" id=\"DejaVuSans-57\"/>\n      </defs>\n      <g transform=\"translate(7.2 42.660359)scale(0.1 -0.1)\">\n       <use xlink:href=\"#DejaVuSans-57\"/>\n       <use x=\"63.623047\" xlink:href=\"#DejaVuSans-46\"/>\n       <use x=\"95.410156\" xlink:href=\"#DejaVuSans-48\"/>\n      </g>\n     </g>\n    </g>\n   </g>\n   <g id=\"line2d_14\">\n    <path clip-path=\"url(#p0d8de7b2be)\" d=\"M 45.321307 213.081171 \nL 47.738876 214.756364 \nL 52.657379 203.783852 \nL 60.243545 200.517227 \nL 67.913075 197.166841 \nL 75.66597 195.491649 \nL 83.085406 191.303667 \nL 90.671572 178.739723 \nL 98.341102 161.987797 \nL 106.093997 145.235871 \nL 113.513434 136.022311 \nL 121.099599 127.646348 \nL 128.769129 119.270385 \nL 136.688753 107.544037 \nL 144.024825 105.031248 \nL 151.610991 94.142496 \nL 159.44725 90.792111 \nL 167.033416 84.091341 \nL 174.619581 84.091341 \nL 182.205747 80.740955 \nL 189.791913 77.39057 \nL 197.461443 69.014607 \nL 204.964244 70.6898 \nL 227.88947 55.613066 \nL 258.317497 45.561911 \nL 288.995618 27.972388 \nL 349.684943 17.083636 \n\" style=\"fill:none;stroke:#1f77b4;stroke-linecap:square;stroke-width:1.5;\"/>\n   </g>\n   <g id=\"patch_3\">\n    <path d=\"M 30.103125 224.64 \nL 30.103125 7.2 \n\" style=\"fill:none;stroke:#000000;stroke-linecap:square;stroke-linejoin:miter;stroke-width:0.8;\"/>\n   </g>\n   <g id=\"patch_4\">\n    <path d=\"M 364.903125 224.64 \nL 364.903125 7.2 \n\" style=\"fill:none;stroke:#000000;stroke-linecap:square;stroke-linejoin:miter;stroke-width:0.8;\"/>\n   </g>\n   <g id=\"patch_5\">\n    <path d=\"M 30.103125 224.64 \nL 364.903125 224.64 \n\" style=\"fill:none;stroke:#000000;stroke-linecap:square;stroke-linejoin:miter;stroke-width:0.8;\"/>\n   </g>\n   <g id=\"patch_6\">\n    <path d=\"M 30.103125 7.2 \nL 364.903125 7.2 \n\" style=\"fill:none;stroke:#000000;stroke-linecap:square;stroke-linejoin:miter;stroke-width:0.8;\"/>\n   </g>\n  </g>\n </g>\n <defs>\n  <clipPath id=\"p0d8de7b2be\">\n   <rect height=\"217.44\" width=\"334.8\" x=\"30.103125\" y=\"7.2\"/>\n  </clipPath>\n </defs>\n</svg>\n",
      "image/png": "[encoded data removed]"
     },
     "metadata": {
      "needs_background": "light"
     }
    }
   ],
   "source": [
    "fig, ax = plt.subplots()\n",
    "ax.plot(ind,dat)\n",
    "plt.show()"
   ]
  },
  {
   "cell_type": "code",
   "execution_count": 179,
   "metadata": {},
   "outputs": [],
   "source": [
    "from scipy.optimize import minimize"
   ]
  },
  {
   "cell_type": "code",
   "execution_count": 233,
   "metadata": {},
   "outputs": [
    {
     "output_type": "execute_result",
     "data": {
      "text/plain": [
       "array([ 6.67132364e+00,  1.65153802e-03, -2.87041209e-07])"
      ]
     },
     "metadata": {},
     "execution_count": 233
    }
   ],
   "source": [
    "def polinomial(x):\n",
    "    s = np.zeros(len(ind))\n",
    "    for r in range(len(x)): \n",
    "        s += x[r]*ind**r\n",
    "    return s\n",
    "\n",
    "def objective(x):\n",
    "    return np.sum(np.square(dat-polinomial(x)))\n",
    "\n",
    "x0 = np.linspace(0,0,3)\n",
    "\n",
    "res = minimize(objective,x0,method='SLSQP')\n",
    "res.x"
   ]
  },
  {
   "cell_type": "code",
   "execution_count": 234,
   "metadata": {},
   "outputs": [
    {
     "output_type": "display_data",
     "data": {
      "text/plain": "<Figure size 432x288 with 1 Axes>",
      "image/svg+xml": "<?xml version=\"1.0\" encoding=\"utf-8\" standalone=\"no\"?>\n<!DOCTYPE svg PUBLIC \"-//W3C//DTD SVG 1.1//EN\"\n  \"http://www.w3.org/Graphics/SVG/1.1/DTD/svg11.dtd\">\n<!-- Created with matplotlib (https://matplotlib.org/) -->\n<svg height=\"248.518125pt\" version=\"1.1\" viewBox=\"0 0 372.103125 248.518125\" width=\"372.103125pt\" xmlns=\"http://www.w3.org/2000/svg\" xmlns:xlink=\"http://www.w3.org/1999/xlink\">\n <defs>\n  <style type=\"text/css\">\n*{stroke-linecap:butt;stroke-linejoin:round;}\n  </style>\n </defs>\n <g id=\"figure_1\">\n  <g id=\"patch_1\">\n   <path d=\"M 0 248.518125 \nL 372.103125 248.518125 \nL 372.103125 0 \nL 0 0 \nz\n\" style=\"fill:none;\"/>\n  </g>\n  <g id=\"axes_1\">\n   <g id=\"patch_2\">\n    <path d=\"M 30.103125 224.64 \nL 364.903125 224.64 \nL 364.903125 7.2 \nL 30.103125 7.2 \nz\n\" style=\"fill:#ffffff;\"/>\n   </g>\n   <g id=\"matplotlib.axis_1\">\n    <g id=\"xtick_1\">\n     <g id=\"line2d_1\">\n      <defs>\n       <path d=\"M 0 0 \nL 0 3.5 \n\" id=\"m0a4e80b40e\" style=\"stroke:#000000;stroke-width:0.8;\"/>\n      </defs>\n      <g>\n       <use style=\"stroke:#000000;stroke-width:0.8;\" x=\"45.321307\" xlink:href=\"#m0a4e80b40e\" y=\"224.64\"/>\n      </g>\n     </g>\n     <g id=\"text_1\">\n      <!-- 0 -->\n      <defs>\n       <path d=\"M 31.78125 66.40625 \nQ 24.171875 66.40625 20.328125 58.90625 \nQ 16.5 51.421875 16.5 36.375 \nQ 16.5 21.390625 20.328125 13.890625 \nQ 24.171875 6.390625 31.78125 6.390625 \nQ 39.453125 6.390625 43.28125 13.890625 \nQ 47.125 21.390625 47.125 36.375 \nQ 47.125 51.421875 43.28125 58.90625 \nQ 39.453125 66.40625 31.78125 66.40625 \nz\nM 31.78125 74.21875 \nQ 44.046875 74.21875 50.515625 64.515625 \nQ 56.984375 54.828125 56.984375 36.375 \nQ 56.984375 17.96875 50.515625 8.265625 \nQ 44.046875 -1.421875 31.78125 -1.421875 \nQ 19.53125 -1.421875 13.0625 8.265625 \nQ 6.59375 17.96875 6.59375 36.375 \nQ 6.59375 54.828125 13.0625 64.515625 \nQ 19.53125 74.21875 31.78125 74.21875 \nz\n\" id=\"DejaVuSans-48\"/>\n      </defs>\n      <g transform=\"translate(42.140057 239.238437)scale(0.1 -0.1)\">\n       <use xlink:href=\"#DejaVuSans-48\"/>\n      </g>\n     </g>\n    </g>\n    <g id=\"xtick_2\">\n     <g id=\"line2d_2\">\n      <g>\n       <use style=\"stroke:#000000;stroke-width:0.8;\" x=\"87.003536\" xlink:href=\"#m0a4e80b40e\" y=\"224.64\"/>\n      </g>\n     </g>\n     <g id=\"text_2\">\n      <!-- 500 -->\n      <defs>\n       <path d=\"M 10.796875 72.90625 \nL 49.515625 72.90625 \nL 49.515625 64.59375 \nL 19.828125 64.59375 \nL 19.828125 46.734375 \nQ 21.96875 47.46875 24.109375 47.828125 \nQ 26.265625 48.1875 28.421875 48.1875 \nQ 40.625 48.1875 47.75 41.5 \nQ 54.890625 34.8125 54.890625 23.390625 \nQ 54.890625 11.625 47.5625 5.09375 \nQ 40.234375 -1.421875 26.90625 -1.421875 \nQ 22.3125 -1.421875 17.546875 -0.640625 \nQ 12.796875 0.140625 7.71875 1.703125 \nL 7.71875 11.625 \nQ 12.109375 9.234375 16.796875 8.0625 \nQ 21.484375 6.890625 26.703125 6.890625 \nQ 35.15625 6.890625 40.078125 11.328125 \nQ 45.015625 15.765625 45.015625 23.390625 \nQ 45.015625 31 40.078125 35.4375 \nQ 35.15625 39.890625 26.703125 39.890625 \nQ 22.75 39.890625 18.8125 39.015625 \nQ 14.890625 38.140625 10.796875 36.28125 \nz\n\" id=\"DejaVuSans-53\"/>\n      </defs>\n      <g transform=\"translate(77.459786 239.238437)scale(0.1 -0.1)\">\n       <use xlink:href=\"#DejaVuSans-53\"/>\n       <use x=\"63.623047\" xlink:href=\"#DejaVuSans-48\"/>\n       <use x=\"127.246094\" xlink:href=\"#DejaVuSans-48\"/>\n      </g>\n     </g>\n    </g>\n    <g id=\"xtick_3\">\n     <g id=\"line2d_3\">\n      <g>\n       <use style=\"stroke:#000000;stroke-width:0.8;\" x=\"128.685765\" xlink:href=\"#m0a4e80b40e\" y=\"224.64\"/>\n      </g>\n     </g>\n     <g id=\"text_3\">\n      <!-- 1000 -->\n      <defs>\n       <path d=\"M 12.40625 8.296875 \nL 28.515625 8.296875 \nL 28.515625 63.921875 \nL 10.984375 60.40625 \nL 10.984375 69.390625 \nL 28.421875 72.90625 \nL 38.28125 72.90625 \nL 38.28125 8.296875 \nL 54.390625 8.296875 \nL 54.390625 0 \nL 12.40625 0 \nz\n\" id=\"DejaVuSans-49\"/>\n      </defs>\n      <g transform=\"translate(115.960765 239.238437)scale(0.1 -0.1)\">\n       <use xlink:href=\"#DejaVuSans-49\"/>\n       <use x=\"63.623047\" xlink:href=\"#DejaVuSans-48\"/>\n       <use x=\"127.246094\" xlink:href=\"#DejaVuSans-48\"/>\n       <use x=\"190.869141\" xlink:href=\"#DejaVuSans-48\"/>\n      </g>\n     </g>\n    </g>\n    <g id=\"xtick_4\">\n     <g id=\"line2d_4\">\n      <g>\n       <use style=\"stroke:#000000;stroke-width:0.8;\" x=\"170.367994\" xlink:href=\"#m0a4e80b40e\" y=\"224.64\"/>\n      </g>\n     </g>\n     <g id=\"text_4\">\n      <!-- 1500 -->\n      <g transform=\"translate(157.642994 239.238437)scale(0.1 -0.1)\">\n       <use xlink:href=\"#DejaVuSans-49\"/>\n       <use x=\"63.623047\" xlink:href=\"#DejaVuSans-53\"/>\n       <use x=\"127.246094\" xlink:href=\"#DejaVuSans-48\"/>\n       <use x=\"190.869141\" xlink:href=\"#DejaVuSans-48\"/>\n      </g>\n     </g>\n    </g>\n    <g id=\"xtick_5\">\n     <g id=\"line2d_5\">\n      <g>\n       <use style=\"stroke:#000000;stroke-width:0.8;\" x=\"212.050223\" xlink:href=\"#m0a4e80b40e\" y=\"224.64\"/>\n      </g>\n     </g>\n     <g id=\"text_5\">\n      <!-- 2000 -->\n      <defs>\n       <path d=\"M 19.1875 8.296875 \nL 53.609375 8.296875 \nL 53.609375 0 \nL 7.328125 0 \nL 7.328125 8.296875 \nQ 12.9375 14.109375 22.625 23.890625 \nQ 32.328125 33.6875 34.8125 36.53125 \nQ 39.546875 41.84375 41.421875 45.53125 \nQ 43.3125 49.21875 43.3125 52.78125 \nQ 43.3125 58.59375 39.234375 62.25 \nQ 35.15625 65.921875 28.609375 65.921875 \nQ 23.96875 65.921875 18.8125 64.3125 \nQ 13.671875 62.703125 7.8125 59.421875 \nL 7.8125 69.390625 \nQ 13.765625 71.78125 18.9375 73 \nQ 24.125 74.21875 28.421875 74.21875 \nQ 39.75 74.21875 46.484375 68.546875 \nQ 53.21875 62.890625 53.21875 53.421875 \nQ 53.21875 48.921875 51.53125 44.890625 \nQ 49.859375 40.875 45.40625 35.40625 \nQ 44.1875 33.984375 37.640625 27.21875 \nQ 31.109375 20.453125 19.1875 8.296875 \nz\n\" id=\"DejaVuSans-50\"/>\n      </defs>\n      <g transform=\"translate(199.325223 239.238437)scale(0.1 -0.1)\">\n       <use xlink:href=\"#DejaVuSans-50\"/>\n       <use x=\"63.623047\" xlink:href=\"#DejaVuSans-48\"/>\n       <use x=\"127.246094\" xlink:href=\"#DejaVuSans-48\"/>\n       <use x=\"190.869141\" xlink:href=\"#DejaVuSans-48\"/>\n      </g>\n     </g>\n    </g>\n    <g id=\"xtick_6\">\n     <g id=\"line2d_6\">\n      <g>\n       <use style=\"stroke:#000000;stroke-width:0.8;\" x=\"253.732452\" xlink:href=\"#m0a4e80b40e\" y=\"224.64\"/>\n      </g>\n     </g>\n     <g id=\"text_6\">\n      <!-- 2500 -->\n      <g transform=\"translate(241.007452 239.238437)scale(0.1 -0.1)\">\n       <use xlink:href=\"#DejaVuSans-50\"/>\n       <use x=\"63.623047\" xlink:href=\"#DejaVuSans-53\"/>\n       <use x=\"127.246094\" xlink:href=\"#DejaVuSans-48\"/>\n       <use x=\"190.869141\" xlink:href=\"#DejaVuSans-48\"/>\n      </g>\n     </g>\n    </g>\n    <g id=\"xtick_7\">\n     <g id=\"line2d_7\">\n      <g>\n       <use style=\"stroke:#000000;stroke-width:0.8;\" x=\"295.414681\" xlink:href=\"#m0a4e80b40e\" y=\"224.64\"/>\n      </g>\n     </g>\n     <g id=\"text_7\">\n      <!-- 3000 -->\n      <defs>\n       <path d=\"M 40.578125 39.3125 \nQ 47.65625 37.796875 51.625 33 \nQ 55.609375 28.21875 55.609375 21.1875 \nQ 55.609375 10.40625 48.1875 4.484375 \nQ 40.765625 -1.421875 27.09375 -1.421875 \nQ 22.515625 -1.421875 17.65625 -0.515625 \nQ 12.796875 0.390625 7.625 2.203125 \nL 7.625 11.71875 \nQ 11.71875 9.328125 16.59375 8.109375 \nQ 21.484375 6.890625 26.8125 6.890625 \nQ 36.078125 6.890625 40.9375 10.546875 \nQ 45.796875 14.203125 45.796875 21.1875 \nQ 45.796875 27.640625 41.28125 31.265625 \nQ 36.765625 34.90625 28.71875 34.90625 \nL 20.21875 34.90625 \nL 20.21875 43.015625 \nL 29.109375 43.015625 \nQ 36.375 43.015625 40.234375 45.921875 \nQ 44.09375 48.828125 44.09375 54.296875 \nQ 44.09375 59.90625 40.109375 62.90625 \nQ 36.140625 65.921875 28.71875 65.921875 \nQ 24.65625 65.921875 20.015625 65.03125 \nQ 15.375 64.15625 9.8125 62.3125 \nL 9.8125 71.09375 \nQ 15.4375 72.65625 20.34375 73.4375 \nQ 25.25 74.21875 29.59375 74.21875 \nQ 40.828125 74.21875 47.359375 69.109375 \nQ 53.90625 64.015625 53.90625 55.328125 \nQ 53.90625 49.265625 50.4375 45.09375 \nQ 46.96875 40.921875 40.578125 39.3125 \nz\n\" id=\"DejaVuSans-51\"/>\n      </defs>\n      <g transform=\"translate(282.689681 239.238437)scale(0.1 -0.1)\">\n       <use xlink:href=\"#DejaVuSans-51\"/>\n       <use x=\"63.623047\" xlink:href=\"#DejaVuSans-48\"/>\n       <use x=\"127.246094\" xlink:href=\"#DejaVuSans-48\"/>\n       <use x=\"190.869141\" xlink:href=\"#DejaVuSans-48\"/>\n      </g>\n     </g>\n    </g>\n    <g id=\"xtick_8\">\n     <g id=\"line2d_8\">\n      <g>\n       <use style=\"stroke:#000000;stroke-width:0.8;\" x=\"337.09691\" xlink:href=\"#m0a4e80b40e\" y=\"224.64\"/>\n      </g>\n     </g>\n     <g id=\"text_8\">\n      <!-- 3500 -->\n      <g transform=\"translate(324.37191 239.238437)scale(0.1 -0.1)\">\n       <use xlink:href=\"#DejaVuSans-51\"/>\n       <use x=\"63.623047\" xlink:href=\"#DejaVuSans-53\"/>\n       <use x=\"127.246094\" xlink:href=\"#DejaVuSans-48\"/>\n       <use x=\"190.869141\" xlink:href=\"#DejaVuSans-48\"/>\n      </g>\n     </g>\n    </g>\n   </g>\n   <g id=\"matplotlib.axis_2\">\n    <g id=\"ytick_1\">\n     <g id=\"line2d_9\">\n      <defs>\n       <path d=\"M 0 0 \nL -3.5 0 \n\" id=\"m2491d454a2\" style=\"stroke:#000000;stroke-width:0.8;\"/>\n      </defs>\n      <g>\n       <use style=\"stroke:#000000;stroke-width:0.8;\" x=\"30.103125\" xlink:href=\"#m2491d454a2\" y=\"189.658459\"/>\n      </g>\n     </g>\n     <g id=\"text_9\">\n      <!-- 7.0 -->\n      <defs>\n       <path d=\"M 8.203125 72.90625 \nL 55.078125 72.90625 \nL 55.078125 68.703125 \nL 28.609375 0 \nL 18.3125 0 \nL 43.21875 64.59375 \nL 8.203125 64.59375 \nz\n\" id=\"DejaVuSans-55\"/>\n       <path d=\"M 10.6875 12.40625 \nL 21 12.40625 \nL 21 0 \nL 10.6875 0 \nz\n\" id=\"DejaVuSans-46\"/>\n      </defs>\n      <g transform=\"translate(7.2 193.457678)scale(0.1 -0.1)\">\n       <use xlink:href=\"#DejaVuSans-55\"/>\n       <use x=\"63.623047\" xlink:href=\"#DejaVuSans-46\"/>\n       <use x=\"95.410156\" xlink:href=\"#DejaVuSans-48\"/>\n      </g>\n     </g>\n    </g>\n    <g id=\"ytick_2\">\n     <g id=\"line2d_10\">\n      <g>\n       <use style=\"stroke:#000000;stroke-width:0.8;\" x=\"30.103125\" xlink:href=\"#m2491d454a2\" y=\"151.478189\"/>\n      </g>\n     </g>\n     <g id=\"text_10\">\n      <!-- 7.5 -->\n      <g transform=\"translate(7.2 155.277407)scale(0.1 -0.1)\">\n       <use xlink:href=\"#DejaVuSans-55\"/>\n       <use x=\"63.623047\" xlink:href=\"#DejaVuSans-46\"/>\n       <use x=\"95.410156\" xlink:href=\"#DejaVuSans-53\"/>\n      </g>\n     </g>\n    </g>\n    <g id=\"ytick_3\">\n     <g id=\"line2d_11\">\n      <g>\n       <use style=\"stroke:#000000;stroke-width:0.8;\" x=\"30.103125\" xlink:href=\"#m2491d454a2\" y=\"113.297918\"/>\n      </g>\n     </g>\n     <g id=\"text_11\">\n      <!-- 8.0 -->\n      <defs>\n       <path d=\"M 31.78125 34.625 \nQ 24.75 34.625 20.71875 30.859375 \nQ 16.703125 27.09375 16.703125 20.515625 \nQ 16.703125 13.921875 20.71875 10.15625 \nQ 24.75 6.390625 31.78125 6.390625 \nQ 38.8125 6.390625 42.859375 10.171875 \nQ 46.921875 13.96875 46.921875 20.515625 \nQ 46.921875 27.09375 42.890625 30.859375 \nQ 38.875 34.625 31.78125 34.625 \nz\nM 21.921875 38.8125 \nQ 15.578125 40.375 12.03125 44.71875 \nQ 8.5 49.078125 8.5 55.328125 \nQ 8.5 64.0625 14.71875 69.140625 \nQ 20.953125 74.21875 31.78125 74.21875 \nQ 42.671875 74.21875 48.875 69.140625 \nQ 55.078125 64.0625 55.078125 55.328125 \nQ 55.078125 49.078125 51.53125 44.71875 \nQ 48 40.375 41.703125 38.8125 \nQ 48.828125 37.15625 52.796875 32.3125 \nQ 56.78125 27.484375 56.78125 20.515625 \nQ 56.78125 9.90625 50.3125 4.234375 \nQ 43.84375 -1.421875 31.78125 -1.421875 \nQ 19.734375 -1.421875 13.25 4.234375 \nQ 6.78125 9.90625 6.78125 20.515625 \nQ 6.78125 27.484375 10.78125 32.3125 \nQ 14.796875 37.15625 21.921875 38.8125 \nz\nM 18.3125 54.390625 \nQ 18.3125 48.734375 21.84375 45.5625 \nQ 25.390625 42.390625 31.78125 42.390625 \nQ 38.140625 42.390625 41.71875 45.5625 \nQ 45.3125 48.734375 45.3125 54.390625 \nQ 45.3125 60.0625 41.71875 63.234375 \nQ 38.140625 66.40625 31.78125 66.40625 \nQ 25.390625 66.40625 21.84375 63.234375 \nQ 18.3125 60.0625 18.3125 54.390625 \nz\n\" id=\"DejaVuSans-56\"/>\n      </defs>\n      <g transform=\"translate(7.2 117.097137)scale(0.1 -0.1)\">\n       <use xlink:href=\"#DejaVuSans-56\"/>\n       <use x=\"63.623047\" xlink:href=\"#DejaVuSans-46\"/>\n       <use x=\"95.410156\" xlink:href=\"#DejaVuSans-48\"/>\n      </g>\n     </g>\n    </g>\n    <g id=\"ytick_4\">\n     <g id=\"line2d_12\">\n      <g>\n       <use style=\"stroke:#000000;stroke-width:0.8;\" x=\"30.103125\" xlink:href=\"#m2491d454a2\" y=\"75.117648\"/>\n      </g>\n     </g>\n     <g id=\"text_12\">\n      <!-- 8.5 -->\n      <g transform=\"translate(7.2 78.916866)scale(0.1 -0.1)\">\n       <use xlink:href=\"#DejaVuSans-56\"/>\n       <use x=\"63.623047\" xlink:href=\"#DejaVuSans-46\"/>\n       <use x=\"95.410156\" xlink:href=\"#DejaVuSans-53\"/>\n      </g>\n     </g>\n    </g>\n    <g id=\"ytick_5\">\n     <g id=\"line2d_13\">\n      <g>\n       <use style=\"stroke:#000000;stroke-width:0.8;\" x=\"30.103125\" xlink:href=\"#m2491d454a2\" y=\"36.937377\"/>\n      </g>\n     </g>\n     <g id=\"text_13\">\n      <!-- 9.0 -->\n      <defs>\n       <path d=\"M 10.984375 1.515625 \nL 10.984375 10.5 \nQ 14.703125 8.734375 18.5 7.8125 \nQ 22.3125 6.890625 25.984375 6.890625 \nQ 35.75 6.890625 40.890625 13.453125 \nQ 46.046875 20.015625 46.78125 33.40625 \nQ 43.953125 29.203125 39.59375 26.953125 \nQ 35.25 24.703125 29.984375 24.703125 \nQ 19.046875 24.703125 12.671875 31.3125 \nQ 6.296875 37.9375 6.296875 49.421875 \nQ 6.296875 60.640625 12.9375 67.421875 \nQ 19.578125 74.21875 30.609375 74.21875 \nQ 43.265625 74.21875 49.921875 64.515625 \nQ 56.59375 54.828125 56.59375 36.375 \nQ 56.59375 19.140625 48.40625 8.859375 \nQ 40.234375 -1.421875 26.421875 -1.421875 \nQ 22.703125 -1.421875 18.890625 -0.6875 \nQ 15.09375 0.046875 10.984375 1.515625 \nz\nM 30.609375 32.421875 \nQ 37.25 32.421875 41.125 36.953125 \nQ 45.015625 41.5 45.015625 49.421875 \nQ 45.015625 57.28125 41.125 61.84375 \nQ 37.25 66.40625 30.609375 66.40625 \nQ 23.96875 66.40625 20.09375 61.84375 \nQ 16.21875 57.28125 16.21875 49.421875 \nQ 16.21875 41.5 20.09375 36.953125 \nQ 23.96875 32.421875 30.609375 32.421875 \nz\n\" id=\"DejaVuSans-57\"/>\n      </defs>\n      <g transform=\"translate(7.2 40.736596)scale(0.1 -0.1)\">\n       <use xlink:href=\"#DejaVuSans-57\"/>\n       <use x=\"63.623047\" xlink:href=\"#DejaVuSans-46\"/>\n       <use x=\"95.410156\" xlink:href=\"#DejaVuSans-48\"/>\n      </g>\n     </g>\n    </g>\n   </g>\n   <g id=\"line2d_14\">\n    <path clip-path=\"url(#pb8ed1cb623)\" d=\"M 45.321307 195.767302 \nL 47.738876 197.294513 \nL 52.657379 187.291282 \nL 60.243545 184.313221 \nL 67.913075 181.2588 \nL 75.66597 179.731589 \nL 83.085406 175.913562 \nL 90.671572 164.459481 \nL 98.341102 149.187372 \nL 106.093997 133.915264 \nL 113.513434 125.515605 \nL 121.099599 117.879551 \nL 128.769129 110.243496 \nL 136.688753 99.553021 \nL 144.024825 97.262204 \nL 151.610991 87.335334 \nL 159.44725 84.280912 \nL 167.033416 78.172069 \nL 174.619581 78.172069 \nL 182.205747 75.117648 \nL 189.791913 72.063226 \nL 197.461443 64.427172 \nL 204.964244 65.954383 \nL 227.88947 52.209485 \nL 258.317497 43.04622 \nL 288.995618 27.010507 \nL 349.684943 17.083636 \n\" style=\"fill:none;stroke:#1f77b4;stroke-linecap:square;stroke-width:1.5;\"/>\n   </g>\n   <g id=\"line2d_15\">\n    <path clip-path=\"url(#pb8ed1cb623)\" d=\"M 45.321307 214.756364 \nL 47.738876 211.117539 \nL 52.657379 203.828216 \nL 60.243545 192.88455 \nL 67.913075 182.189646 \nL 75.66597 171.755603 \nL 83.085406 162.125374 \nL 90.671572 152.637762 \nL 98.341102 143.414912 \nL 106.093997 134.468924 \nL 113.513434 126.262748 \nL 121.099599 118.23119 \nL 128.769129 110.480396 \nL 136.688753 102.866242 \nL 144.024825 96.166109 \nL 151.610991 89.594594 \nL 159.44725 83.187601 \nL 167.033416 77.354086 \nL 174.619581 71.883588 \nL 182.205747 66.776106 \nL 189.791913 62.03164 \nL 197.461443 57.604059 \nL 204.964244 53.631757 \nL 227.88947 43.694249 \nL 258.317497 35.624655 \nL 288.995618 33.401153 \nL 349.684943 46.491091 \n\" style=\"fill:none;stroke:#ff7f0e;stroke-linecap:square;stroke-width:1.5;\"/>\n   </g>\n   <g id=\"patch_3\">\n    <path d=\"M 30.103125 224.64 \nL 30.103125 7.2 \n\" style=\"fill:none;stroke:#000000;stroke-linecap:square;stroke-linejoin:miter;stroke-width:0.8;\"/>\n   </g>\n   <g id=\"patch_4\">\n    <path d=\"M 364.903125 224.64 \nL 364.903125 7.2 \n\" style=\"fill:none;stroke:#000000;stroke-linecap:square;stroke-linejoin:miter;stroke-width:0.8;\"/>\n   </g>\n   <g id=\"patch_5\">\n    <path d=\"M 30.103125 224.64 \nL 364.903125 224.64 \n\" style=\"fill:none;stroke:#000000;stroke-linecap:square;stroke-linejoin:miter;stroke-width:0.8;\"/>\n   </g>\n   <g id=\"patch_6\">\n    <path d=\"M 30.103125 7.2 \nL 364.903125 7.2 \n\" style=\"fill:none;stroke:#000000;stroke-linecap:square;stroke-linejoin:miter;stroke-width:0.8;\"/>\n   </g>\n  </g>\n </g>\n <defs>\n  <clipPath id=\"pb8ed1cb623\">\n   <rect height=\"217.44\" width=\"334.8\" x=\"30.103125\" y=\"7.2\"/>\n  </clipPath>\n </defs>\n</svg>\n",
      "image/png": "[encoded data removed]"
     },
     "metadata": {
      "needs_background": "light"
     }
    }
   ],
   "source": [
    "fig, ax = plt.subplots()\n",
    "ax.plot(ind,dat)\n",
    "ax.plot(ind,polinomial(res.x))\n",
    "plt.show()"
   ]
  },
  {
   "cell_type": "code",
   "execution_count": 235,
   "metadata": {},
   "outputs": [
    {
     "output_type": "execute_result",
     "data": {
      "text/plain": [
       "0.47811400286521233"
      ]
     },
     "metadata": {},
     "execution_count": 235
    }
   ],
   "source": [
    "np.sum(np.square(dat-polinomial(res.x)))"
   ]
  },
  {
   "cell_type": "code",
   "execution_count": null,
   "metadata": {},
   "outputs": [],
   "source": []
  }
 ]
}