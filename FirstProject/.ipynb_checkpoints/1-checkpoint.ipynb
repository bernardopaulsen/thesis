{
 "cells": [
  {
   "cell_type": "code",
   "execution_count": 71,
   "metadata": {},
   "outputs": [],
   "source": [
    "import bacen\n",
    "import datetime as dt\n",
    "import pandas as pd"
   ]
  },
  {
   "cell_type": "code",
   "execution_count": 76,
   "metadata": {},
   "outputs": [
    {
     "data": {
      "text/html": [
       "<div>\n",
       "<style scoped>\n",
       "    .dataframe tbody tr th:only-of-type {\n",
       "        vertical-align: middle;\n",
       "    }\n",
       "\n",
       "    .dataframe tbody tr th {\n",
       "        vertical-align: top;\n",
       "    }\n",
       "\n",
       "    .dataframe thead th {\n",
       "        text-align: right;\n",
       "    }\n",
       "</style>\n",
       "<table border=\"1\" class=\"dataframe\">\n",
       "  <thead>\n",
       "    <tr style=\"text-align: right;\">\n",
       "      <th></th>\n",
       "      <th>valor</th>\n",
       "    </tr>\n",
       "    <tr>\n",
       "      <th>data</th>\n",
       "      <th></th>\n",
       "    </tr>\n",
       "  </thead>\n",
       "  <tbody>\n",
       "    <tr>\n",
       "      <th>2018-08-31</th>\n",
       "      <td>0.02462</td>\n",
       "    </tr>\n",
       "    <tr>\n",
       "      <th>2018-09-03</th>\n",
       "      <td>0.02462</td>\n",
       "    </tr>\n",
       "    <tr>\n",
       "      <th>2018-09-04</th>\n",
       "      <td>0.02462</td>\n",
       "    </tr>\n",
       "    <tr>\n",
       "      <th>2018-09-05</th>\n",
       "      <td>0.02462</td>\n",
       "    </tr>\n",
       "    <tr>\n",
       "      <th>2018-09-06</th>\n",
       "      <td>0.02462</td>\n",
       "    </tr>\n",
       "  </tbody>\n",
       "</table>\n",
       "</div>"
      ],
      "text/plain": [
       "              valor\n",
       "data               \n",
       "2018-08-31  0.02462\n",
       "2018-09-03  0.02462\n",
       "2018-09-04  0.02462\n",
       "2018-09-05  0.02462\n",
       "2018-09-06  0.02462"
      ]
     },
     "execution_count": 76,
     "metadata": {},
     "output_type": "execute_result"
    }
   ],
   "source": [
    "di  = bacen.get(11,(2018,8,31),(2021,3,10))\n",
    "di.index = pd.to_datetime(di.index)\n",
    "di.head()"
   ]
  },
  {
   "cell_type": "code",
   "execution_count": 45,
   "metadata": {},
   "outputs": [
    {
     "data": {
      "text/html": [
       "<div>\n",
       "<style scoped>\n",
       "    .dataframe tbody tr th:only-of-type {\n",
       "        vertical-align: middle;\n",
       "    }\n",
       "\n",
       "    .dataframe tbody tr th {\n",
       "        vertical-align: top;\n",
       "    }\n",
       "\n",
       "    .dataframe thead th {\n",
       "        text-align: right;\n",
       "    }\n",
       "</style>\n",
       "<table border=\"1\" class=\"dataframe\">\n",
       "  <thead>\n",
       "    <tr style=\"text-align: right;\">\n",
       "      <th></th>\n",
       "      <th>date</th>\n",
       "      <th>link</th>\n",
       "      <th>title</th>\n",
       "    </tr>\n",
       "  </thead>\n",
       "  <tbody>\n",
       "    <tr>\n",
       "      <th>19876</th>\n",
       "      <td>31/08/2018 12h51</td>\n",
       "      <td>https://g1.globo.com/politica/blog/valdo-cruz/...</td>\n",
       "      <td>Temer volta atrás e adia reajuste de servidore...</td>\n",
       "    </tr>\n",
       "    <tr>\n",
       "      <th>19875</th>\n",
       "      <td>31/08/2018 13h05</td>\n",
       "      <td>https://g1.globo.com/politica/blog/andreia-sad...</td>\n",
       "      <td>Na cadeia, Lula discutiu indulto com Haddad</td>\n",
       "    </tr>\n",
       "    <tr>\n",
       "      <th>19874</th>\n",
       "      <td>31/08/2018 12h30</td>\n",
       "      <td>https://g1.globo.com/rj/rio-de-janeiro/eleicoe...</td>\n",
       "      <td>Marina defende impulsionar setor industrial co...</td>\n",
       "    </tr>\n",
       "    <tr>\n",
       "      <th>19873</th>\n",
       "      <td>31/08/2018 10h38</td>\n",
       "      <td>https://g1.globo.com/politica/eleicoes/2018/no...</td>\n",
       "      <td>Ministério Público reforça pedido ao TSE para ...</td>\n",
       "    </tr>\n",
       "    <tr>\n",
       "      <th>19872</th>\n",
       "      <td>31/08/2018 12h32</td>\n",
       "      <td>https://g1.globo.com/sc/santa-catarina/eleicoe...</td>\n",
       "      <td>Ciro Gomes diz que terceirizar atividade-fim é...</td>\n",
       "    </tr>\n",
       "  </tbody>\n",
       "</table>\n",
       "</div>"
      ],
      "text/plain": [
       "                     date                                               link  \\\n",
       "19876   31/08/2018 12h51   https://g1.globo.com/politica/blog/valdo-cruz/...   \n",
       "19875   31/08/2018 13h05   https://g1.globo.com/politica/blog/andreia-sad...   \n",
       "19874   31/08/2018 12h30   https://g1.globo.com/rj/rio-de-janeiro/eleicoe...   \n",
       "19873   31/08/2018 10h38   https://g1.globo.com/politica/eleicoes/2018/no...   \n",
       "19872   31/08/2018 12h32   https://g1.globo.com/sc/santa-catarina/eleicoe...   \n",
       "\n",
       "                                                   title  \n",
       "19876  Temer volta atrás e adia reajuste de servidore...  \n",
       "19875        Na cadeia, Lula discutiu indulto com Haddad  \n",
       "19874  Marina defende impulsionar setor industrial co...  \n",
       "19873  Ministério Público reforça pedido ao TSE para ...  \n",
       "19872  Ciro Gomes diz que terceirizar atividade-fim é...  "
      ]
     },
     "execution_count": 45,
     "metadata": {},
     "output_type": "execute_result"
    }
   ],
   "source": [
    "news = pd.read_csv('scrapy/news.csv')\n",
    "news = news.dropna()\n",
    "news = news.iloc[::-1]\n",
    "news.head()"
   ]
  },
  {
   "cell_type": "code",
   "execution_count": 46,
   "metadata": {
    "scrolled": true
   },
   "outputs": [
    {
     "data": {
      "text/plain": [
       "19876     31/08/2018 12h51 \n",
       "19875     31/08/2018 13h05 \n",
       "19874     31/08/2018 12h30 \n",
       "19873     31/08/2018 10h38 \n",
       "19872     31/08/2018 12h32 \n",
       "Name: date, dtype: object"
      ]
     },
     "execution_count": 46,
     "metadata": {},
     "output_type": "execute_result"
    }
   ],
   "source": [
    "day_time = news['date']\n",
    "day_time.head()"
   ]
  },
  {
   "cell_type": "code",
   "execution_count": 90,
   "metadata": {},
   "outputs": [],
   "source": [
    "day_start    = 1\n",
    "day_end      = 3\n",
    "month_start  = 4\n",
    "month_end    = 6\n",
    "year_start   = 7\n",
    "year_end     = 11\n",
    "hour_start   = 12\n",
    "hour_end     = 14\n",
    "minute_start = 15\n",
    "minute_end   = 17"
   ]
  },
  {
   "cell_type": "code",
   "execution_count": 94,
   "metadata": {},
   "outputs": [],
   "source": [
    "lis_t = []\n",
    "for date in news['date']:\n",
    "    day    = int(date[day_start:day_end])\n",
    "    month  = int(date[month_start:month_end])\n",
    "    year   = int(date[year_start:year_end])\n",
    "    hour   = int(date[hour_start:hour_end])\n",
    "    minute = int(date[minute_start:minute_end])\n",
    "    date_time = dt.datetime(year,month,day,hour,minute)\n",
    "    time_stamp = pd.Timestamp(date_time)\n",
    "    lis_t.append(time_stamp)"
   ]
  },
  {
   "cell_type": "code",
   "execution_count": 97,
   "metadata": {},
   "outputs": [
    {
     "data": {
      "text/plain": [
       "2018-08-31 12:51:00    https://g1.globo.com/politica/blog/valdo-cruz/...\n",
       "2018-08-31 13:05:00    https://g1.globo.com/politica/blog/andreia-sad...\n",
       "2018-08-31 12:30:00    https://g1.globo.com/rj/rio-de-janeiro/eleicoe...\n",
       "2018-08-31 10:38:00    https://g1.globo.com/politica/eleicoes/2018/no...\n",
       "2018-08-31 12:32:00    https://g1.globo.com/sc/santa-catarina/eleicoe...\n",
       "Name: link, dtype: object"
      ]
     },
     "execution_count": 97,
     "metadata": {},
     "output_type": "execute_result"
    }
   ],
   "source": [
    "news.index = lis_t\n",
    "news = news['link']\n",
    "news.head()"
   ]
  },
  {
   "cell_type": "code",
   "execution_count": null,
   "metadata": {},
   "outputs": [],
   "source": []
  },
  {
   "cell_type": "code",
   "execution_count": null,
   "metadata": {},
   "outputs": [],
   "source": []
  },
  {
   "cell_type": "code",
   "execution_count": null,
   "metadata": {},
   "outputs": [],
   "source": []
  },
  {
   "cell_type": "code",
   "execution_count": null,
   "metadata": {},
   "outputs": [],
   "source": []
  }
 ],
 "metadata": {
  "kernelspec": {
   "display_name": "Python 3",
   "language": "python",
   "name": "python3"
  },
  "language_info": {
   "codemirror_mode": {
    "name": "ipython",
    "version": 3
   },
   "file_extension": ".py",
   "mimetype": "text/x-python",
   "name": "python",
   "nbconvert_exporter": "python",
   "pygments_lexer": "ipython3",
   "version": "3.7.6"
  }
 },
 "nbformat": 4,
 "nbformat_minor": 2
}
